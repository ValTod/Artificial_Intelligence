


print(42)


2 ** 5 # 2 to the power of 5


[1,2,3,4] + [5] #concatenation of lists






