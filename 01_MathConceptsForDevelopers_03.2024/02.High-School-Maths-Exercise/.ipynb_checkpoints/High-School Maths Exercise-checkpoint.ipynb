{
 "cells": [
  {
   "cell_type": "code",
   "execution_count": 2,
   "id": "3e9fa11d-3550-443d-acad-cd9e88df6feb",
   "metadata": {},
   "outputs": [],
   "source": [
    "import sympy\n",
    "import math\n",
    "%config IPCompleter.greedy=True"
   ]
  },
  {
   "cell_type": "markdown",
   "id": "d44adea4-4931-4e21-beac-16dd1a4a1b0d",
   "metadata": {},
   "source": [
    "# High-School Maths Exercise\n",
    "## Getting to Know Jupyter Notebook. Python Libraries and Best Practices. Basic Workflow"
   ]
  },
  {
   "cell_type": "markdown",
   "id": "d9b16b44-93d7-4224-9b8a-bcff1b97ee6f",
   "metadata": {},
   "source": [
    "### Problem 1. Markdown\n",
    "Jupyter Notebook is a very light, beautiful and convenient way to organize your research and display your results. Let's play with it for a while.\n",
    "\n",
    "First, you can double-click each cell and edit its content. If you want to run a cell (that is, execute the code inside it), use Cell > Run Cells in the top menu or press <kbd>Ctrl</kbd> + <kbd>Enter</kbd>.\n",
    "\n",
    "Second, each cell has a type. There are two main types: Markdown (which is for any kind of free text, explanations, formulas, results... you get the idea), and code (which is, well... for code :D).\n",
    "\n",
    "Let me give you a...\n",
    "#### Quick Introduction to Markdown\n",
    "##### Text and Paragraphs\n",
    "There are several things that you can do. As you already saw, you can write paragraph text just by typing it. In order to create a new paragraph, just leave a blank line. See how this works below:\n",
    "```\n",
    "This is some text.\n",
    "This text is on a new line, but it will continue the same paragraph (so you can make your paragraphs more easily readable by just continuing on a new line, or just go on and on like this one line is ever continuing).\n",
    "\n",
    "This text is displayed in a new paragraph.\n",
    "\n",
    "And this is yet another paragraph.\n",
    "```\n",
    "**Result:**\n",
    "\n",
    "This is some text.\n",
    "This text is on a new line, but it will continue the same paragraph (so you can make your paragraphs more easily readable by just continuing on a new line, or just go on and on like this one line is ever continuing).\n",
    "\n",
    "This text is displayed in a new paragraph.\n",
    "\n",
    "And this is yet another paragraph.\n",
    "\n",
    "##### Headings\n",
    "There are six levels of headings. Level one is the highest (largest and most important), and level 6 is the smallest. You can create headings of several types by prefixing the header line with one to six \"#\" symbols (this is called a pound sign if you are ancient, or a sharp sign if you're a musician... or a hashtag if you're too young :D). Have a look:\n",
    "```\n",
    "# Heading 1\n",
    "## Heading 2\n",
    "### Heading 3\n",
    "#### Heading 4\n",
    "##### Heading 5\n",
    "###### Heading 6\n",
    "```\n",
    "\n",
    "**Result:**\n",
    "\n",
    "# Heading 1\n",
    "## Heading 2\n",
    "### Heading 3\n",
    "#### Heading 4\n",
    "##### Heading 5\n",
    "###### Heading 6\n",
    "\n",
    "It is recommended that you have **only one** H1 heading - this should be the header of your notebook (or scientific paper). Below that, you can add your name or just jump to the explanations directly.\n",
    "\n",
    "##### Emphasis\n",
    "You can create emphasized (stronger) text by using a **bold** or _italic_ font. You can do this in several ways (using asterisks (\\*) or underscores (\\_)). In order to \"escape\" a symbol, prefix it with a backslash (\\). You can also strike through your text in order to signify a correction.\n",
    "```\n",
    "**bold** __bold__\n",
    "*italic* _italic_\n",
    "\n",
    "This is \\*\\*not \\*\\* bold.\n",
    "\n",
    "I ~~didn't make~~ a mistake.\n",
    "```\n",
    "\n",
    "**Result:**\n",
    "\n",
    "**bold** __bold__\n",
    "*italic* _italic_\n",
    "\n",
    "This is \\*\\*not\\*\\* bold.\n",
    "\n",
    "I ~~didn't make~~ a mistake.\n",
    "\n",
    "##### Lists\n",
    "You can add two types of lists: ordered and unordered. Lists can also be nested inside one another. To do this, press <kbd>Tab</kbd> once (it will be converted to 4 spaces).\n",
    "\n",
    "To create an ordered list, just type the numbers. Don't worry if your numbers are wrong - Jupyter Notebook will create them properly for you. Well, it's better to have them properly numbered anyway...\n",
    "```\n",
    "1. This is\n",
    "2. A list\n",
    "10. With many\n",
    "9. Items\n",
    "    1. Some of which\n",
    "    2. Can\n",
    "        3. Be nested\n",
    "42. You can also\n",
    "    * Mix \n",
    "    * list\n",
    "    * types\n",
    "```\n",
    "\n",
    "**Result:**\n",
    "1. This is\n",
    "2. A list\n",
    "10. With many\n",
    "9. Items\n",
    "    1. Some of which\n",
    "    2. Can\n",
    "        3. Be nested\n",
    "42. You can also\n",
    "    * Mix \n",
    "    * list\n",
    "    * types\n",
    "    \n",
    "To create an unordered list, type an asterisk, plus or minus at the beginning:\n",
    "```\n",
    "* This is\n",
    "* An\n",
    "    + Unordered\n",
    "    - list\n",
    "```\n",
    "\n",
    "**Result:**\n",
    "* This is\n",
    "* An\n",
    "    + Unordered\n",
    "        - list\n",
    "        \n",
    "##### Links\n",
    "There are many ways to create links but we mostly use one of them: we present links with some explanatory text. See how it works:\n",
    "```\n",
    "This is [a link](http://google.com) to Google.\n",
    "```\n",
    "\n",
    "**Result:**\n",
    "\n",
    "This is [a link](http://google.com) to Google.\n",
    "\n",
    "##### Images\n",
    "They are very similar to links. Just prefix the image with an exclamation mark. The alt(ernative) text will be displayed if the image is not available. Have a look (hover over the image to see the title text):\n",
    "```\n",
    "![Alt text](http://i.imgur.com/dkY1gph.jpg) Do you know that \"taco cat\" is a palindrome? Thanks to The Oatmeal :)\n",
    "```\n",
    "\n",
    "**Result:**\n",
    "\n",
    "![Alt text](http://i.imgur.com/dkY1gph.jpg) Do you know that \"taco cat\" is a palindrome? Thanks to The Oatmeal :)\n",
    "\n",
    "If you want to resize images or do some more advanced stuff, just use HTML. \n",
    "\n",
    "Did I mention these cells support HTML, CSS and JavaScript? Now I did.\n",
    "\n",
    "##### Tables\n",
    "These are a pain because they need to be formatted (somewhat) properly. Here's a good [table generator](http://www.tablesgenerator.com/markdown_tables). Just select File > Paste table data... and provide a tab-separated list of values. It will generate a good-looking ASCII-art table for you.\n",
    "```\n",
    "| Cell1 | Cell2 | Cell3 |\n",
    "|-------|-------|-------|\n",
    "| 1.1   | 1.2   | 1.3   |\n",
    "| 2.1   | 2.2   | 2.3   |\n",
    "| 3.1   | 3.2   | 3.3   |\n",
    "```\n",
    "\n",
    "**Result:**\n",
    "\n",
    "| Cell1 | Cell2 | Cell3 |\n",
    "|-------|-------|-------|\n",
    "| 1.1   | 1.2   | 1.3   |\n",
    "| 2.1   | 2.2   | 2.3   |\n",
    "| 3.1   | 3.2   | 3.3   |\n",
    "\n",
    "##### Code\n",
    "Just use triple backtick symbols. If you provide a language, it will be syntax-highlighted. You can also use inline code with single backticks.\n",
    "<pre>\n",
    "```python\n",
    "def square(x):\n",
    "    return x ** 2\n",
    "```\n",
    "This is `inline` code. No syntax highlighting here.\n",
    "</pre>\n",
    "\n",
    "**Result:**\n",
    "```python\n",
    "def square(x):\n",
    "    return x ** 2\n",
    "```\n",
    "This is `inline` code. No syntax highlighting here."
   ]
  },
  {
   "cell_type": "markdown",
   "id": "00f325c8-d827-4229-8fd8-0940867d6b43",
   "metadata": {},
   "source": [
    "**Now it's your turn to have some Markdown fun.** In the next cell, try out some of the commands. You can just throw in some things, or do something more structured (like a small notebook)."
   ]
  },
  {
   "cell_type": "markdown",
   "id": "e121fd7a-0443-493a-9985-75b5b2eee501",
   "metadata": {},
   "source": [
    "<p style=\"color: #d9534f\">Write some Markdown here.</p>\n",
    "\n",
    "# Breed Of Cats\n",
    "## Autor: Valerie Todorov\n",
    "### Abstract:\n",
    "This is a short information about some cat breeds, colected from internet.\n",
    "\n",
    "## 1. Maine Coon\n",
    "The Maine Coon is a large domesticated cat breed. It is one of the oldest natural breeds in North America.\n",
    "The breed originated in the U.S. state of Maine, where it is the official state cat.\n",
    "\n",
    "![Maine Coon](https://upload.wikimedia.org/wikipedia/commons/5/5a/Maine_Coon_cat_by_Tomitheos.JPG) *__Maine Coon__*\n",
    "\n",
    "### 1.1. History\n",
    "The __Maine Coon__ is one of the largest domesticated cats. It has a distinctive physical appearance and valuable hunting skills.\n",
    "The breed was popular in cat shows in the late 19th century, but its existence became threatened when long-haired breeds from overseas were introduced in the early 20th century.\n",
    "The Maine Coon has since made a comeback, in 2020 becoming the third most popular pedigree cat breed in the world.\n",
    "\n",
    "#### 1.1.1. Origin\n",
    "Maine Coon cats originated in Maine. However, their lineage is surrounded by mystery, folk tales, and myths.\n",
    "\n",
    "#### 1.1.2. Myths\n",
    "One myth claims the Maine Coon cat is a hybrid with another animal species, such as the raccoon or bobcat.\n",
    "The second myth states the cats are descendants of Viking ship's cats, known today as the Norwegian Forest cats. \n",
    "A third story involves Marie Antoinette, the Queen of France who was executed in 1793. The story goes that before her death, Antoinette attempted to escape France with the help of Captain Samuel Clough. \n",
    "She loaded Clough's ship with her most prized possessions, including six of her favorite Turkish Angora or possibly Siberian cats. \n",
    "Although she did not make it to the United States, all of her pets managed to reach the shore of Wiscasset, Maine, safely, where they bred with other short-haired breeds and developed into the modern breed of the Maine Coon\n",
    "\n",
    "#### 1.1.3. Science\n",
    "These myths and theories have long speculated that the long-haired Maine Coon cat has to be related to other long-haired breeds, due to their similarities in phenotype. \n",
    "And for the Maine Coon in particular, that it is descended from the Norwegian or Siberian Forest cat, brought to New England by settlers or Vikings. However, phylogenetic studies showed that the Maine Coon belongs to the Western European monophyletic cat branch, but forms the closest relationship with the random-bred cat population in the Northeastern US (New York region). \n",
    "This Western European branch also contains the Norwegian and Siberian Forest cat, but they fall under a different sub-branch. \n",
    "The Maine Coons are descendants of cats brought to New England by Puritan settlers in the 1600-1700s, and out of the European cats they are genetically closest to cats found in the United Kingdom. \n",
    "It is not relatedness that makes them look similar to the Norwegian and Siberian Forest cats, but convergent evolution. These breeds all formed in harsh climates in which natural selection pressures for similar qualities. \n",
    "Thick, long coats, toe and ear tufts, big bodies, and snowshoe-like big feet, are useful traits in all the harsh climates where these breeds originate from.\n",
    "\n",
    "### 1.2. Description\n",
    "\n",
    "#### 1.2.1. Fur coat\n",
    "The __Maine Coon__ is a long or medium-haired cat. The coat is soft and silky, although texture may vary with coat color.\n",
    "The length is shorter on the head and shoulders and longer on the stomach and flanks, with some cats having a leonine ruff around their neck. Minimal grooming is required for the breed compared to other long-haired breeds, as their double coat is mostly self-maintaining owing to a light-density undercoat.\n",
    "The coat is subject to seasonal variation, with the fur being thicker in the winter and thinner during the summer.\n",
    "\n",
    "#### 1.2.2. Coat colors\n",
    "_Maine Coons_ can have any colors that other cats have. Colors indicating crossbreeding, such as chocolate, lavender, the Siamese pointed patterns or the \\\"ticked\\\" patterns, are not accepted by some breed standards. This is not universal; the ticked pattern, for example, is accepted by TICA and CFA.\n",
    "The most common pattern seen in the breed is brown tabby. All eye colors are accepted under breed standards, with the exception of blue or odd-eyes, i.e. heterochromia iridium (two eyes of different colors), in cats possessing coat colors other than white.\n",
    "\n",
    "#### 1.2.3. Size\n",
    "11-month-old cream tabby male kitten being held at cat sh.ow\n",
    "The Maine Coon was considered the largest breed of domestic cat until the introduction of the Savannah cat in the mid 1980s, and is still the largest non-hybrid cat.\n",
    "On average, males weigh from 18 to 22 lb (8.2 to 10.0 kg), with females weighing from 12 to 15 lb (5.4 to 6.8).\n",
    "The height of adults can vary between 10 and 16 in (25 and 41 cm) and they can reach a length of up to 38 in (97 cm), including the tail, which can reach a length of 14 in 36 and is long, tapering, and heavily furred, almost resembling a raccoon's ta. \n",
    "The body is solid and muscular, which is necessary for supporting their weight, and the chest is bod. \n",
    "Maine Coons possess a rectangular body shape and are slow to physically mature; their full size is normally not reached until they are three to five years old, while other cats take about one year   \n",
    "    \n",
    "## 2. Bengal cat\n",
    "The Bengal cat is a breed of hybrid cat created from crossing of an Asian leopard cat (Prionailurus bengalensis), with domestic cats, especially the spotted Egyptian Mau. \n",
    "It is then usually bred with a breed that demonstrates a friendlier personality, because after breeding a domesticated cat with a wildcat, its friendly personality may not manifest in the kitten. \n",
    "The breed's name derives from the leopard cat's taxonomic name.\n",
    "Bengals have a wild appearance; their golden shimmer comes from their leopard cat ancestry, and their coats may show spots, rosettes, arrowhead markings, or marbling. \n",
    "They are an energetic breed that needs much exercise and play\n",
    "    \n",
    "### 2.1. History\n",
    "#### 2.1.1. Early history\n",
    "The earliest mention of an Asian leopard cat × domestic cross was in 1889, when Harrison Weir wrote of them in Our Cats and All About Them.\n",
    "#### 2.1.2. Bengals as a breedy    \n",
    "Jean Mill of California is given credit for the modern Bengal breed. She made the first known deliberate cross of an Asian leopard cat with a domestic cat (a black California tomcat). Bengals as a breed did not really begin in earnest until much later.\n",
    "\n",
    "##### 2.1.2.1. Cat registries\n",
    "In 1986, the breed was accepted as a \\\"new breed\\\" by The International Cat Association; Bengals gained TICA championship status in 1991. The Governing Council of the Cat Fancy (GCCF) accepted Bengal cats in 1997. Fédération Internationale Féline (FIFe) in 1999 accepted the breed into their registry.[6] Also in 1999, Bengals were accepted into the Australian Cat Federation (ACF). The Cat Fanciers' Association accepted the Bengal in CFA's \\\"Miscellaneous\\\" in 2016, under the restrictions that \\\"it must be F6 or later (6 generations removed from the Asian leopard cat or non-Bengal domestic cat ancestors).\n",
    "\n",
    "##### 2.1.2.2. Early generations\n",
    "Bengal cats from the first three generations of breeding (F1, G2, and G3) are considered \\\"foundation\\\" or \\\"early-generation\\\" Bengals.\n",
    "The early-generation males are frequently infertile. Therefore, female early-generation Bengals are bred to fertile domestic Bengal males of later generations.\n",
    "Nevertheless, as the term was used incorrectly for many years, many people and breeders still refer to the cats as F2, F3, and F4, even though the term is considered incorrect.\n",
    "\n",
    "##### 2.1.2.3. Popularity\n",
    "The Bengal breed was more fully developed by the 1980s. \\\"In 1992 The International Cat Association had 125 registered Bengal Breeders. \n",
    "By the 2000s, Bengals had become a very popular breed. In 2019, there were nearly 2,500 Bengal breeders registered in TICA worldwide.\n",
    "        \n",
    "### 2.2. Appearance\n",
    "#### 2.2.1. Markings\n",
    "##### 2.2.1.1. Colors\n",
    "    \n",
    "Bengals come in a variety of coat colors  The International Cat Association (TICA) recognizes several Bengal colors: brown spotted, seal lynx point (snow), sepia, silver, and mink spotted tabby.\n",
    "\n",
    "##### 2.2.1.2. Spotted rosetted\n",
    "The Bengal cat is the only domestic breed of cat that has rosette markings. People most often associate the Bengal with the most popular color: the brown spotted/rosetted Bengal. Nonetheless, Bengals have a wide variety of markings and colors. Even within the Brown spotted/rosetted category a Bengal can be: red, brown, black, ticked, grey, spotted, rosetted, clouded. Many people are stunned by the Bengal Cat's resemblance to a leopard. Among domestic cats, the Bengal markings are perhaps the most varied and unique.\n",
    "\n",
    "#### 2.2.1.3. Marble\n",
    "Domestic cats have four distinct and heritable coat patterns – ticked, mackerel, blotched, and spotted – these are collectively referred to as tabby markings.\n",
    "Christopher Kaelin, a Stanford University geneticist, has conducted research that has been used to identify the spotted gene and the marble gene in domestic Bengal cats.\n",
    "Kaelin studied the color and pattern variations of feral cats in Northern California, and was able to identify the gene responsible for the marble pattern in Bengal cats.\n",
    "    \n",
    "##### 2.2.1.3. Legal restrictions\n",
    "- In Australia, G5 (fifth-generation) Bengals are not restricted, but their import is complex\n",
    "- Bengals were regulated in the United Kingdom. In 2007, however, the Department for Environment, Food and Rural Affairs removed the previous licensing requiremen\n",
    "* In the United States, legal restrictions and even bans sometimes exist at the state and municipal level. \n",
    "    - In Hawaii, Bengal cats are prohibited by law (as are all wild cat species, and all other hybrids of domestic and wild animals. \n",
    "    - In Connecticut, it is also illegal to own any generation of Bengal cat.\n",
    "    - In Alaska, Bengal cats must be four generations removed from the Asian leopard cat. A permit and registered pedigree that indicates the previous four generations are required.\n",
    "    - In California, the code of regulations Title 14, section K, Asian leopards are not specifically listed as a restricted species. \n",
    "    - In Delaware, a permit is required to own Bengal cats.\n",
    "    - Bengals of the F1-G4 generations are also regulated in New York state, Georgia, Massachusetts, and Indana. - Various cities have imposed restrictions; in New York City, Bengals are prohib][25] and there are limits on Bengal ownership in Seattle, Washington, and in Denver, Colorado.\n",
    "\n",
    "Except where noted above, Bengal cats with a generation of G5 and beyond are considered domestic, and are generally legal in the US.\n",
    "    \n",
    "[inforamtion source for bengal cats](https://en.wikipedia.org/wiki/Bengal_cat)\n",
    "\n",
    "| Derived breeds (mostly experimental) | Hybrid cat varieties involving other species: |\n",
    "| ------- | ------- |\n",
    "| 1. Bramble cat | 1. Chausie |\n",
    "| 2. Genetta cat | 2. Kellas cat |\n",
    "| 3. Highlander cat | 3. Savannah cat |\n",
    "| 4. Jungle Curl |\n",
    "| 5. Mojave Spotted |\n",
    "| 6. Pantherette |\n",
    "| 7. Punjabi cat |\n",
    "| 8. Serengeti cat |\n",
    "| 9. Toyger |\n",
    "\n",
    "## another table of cats:\n",
    "| Breed | location if origin| Type | Body type | Coat type and length | Coat pattern |\n",
    "|-------|-------|-------|-------|-------|-------|\n",
    "| Abyssinian |\tUnspecified, but somewhere in Afro-Asia, likely Ethiopia | Natural | Semi-foreign | Short | Ticked tabby |\n",
    "| Aegean | Greece | Natural\t| Moderate | Semi-long | Multi-color |\n",
    "| Bambino | United States | Crossbreed between the Munchkin and Sphynx | Dwarf | Short | Black + white hairless\t|\n",
    "| Bengal | Developed in United States, but created in Asia\t| Hybrid of the Abyssinian and Egyptian Mau × leopard cat (Prionailurus bengalensis) | Large | Short | Spotted, marbled, or rosetted |\t\n",
    "| Birman | Developed in France; foundation stock from Burma (Myanmar) |\tThe original Birman was crossed with the Siamese and the Persian to create the Birman of today.\t| Cobby\t| Semi-long\t| Mitted colorpoint |\n",
    "| Bombay | United States and Burma (Myanmar) | Crossbreed between the Black American Shorthair and Sable Burmese | Cobby | Short | Solid black |\n",
    "| Neva Masquerade (colorpoint Siberian) | Russia | Crossbreed between the Siberian and a colorpoint cat | Cobby\t| Long | Colorpoint\t|\n",
    "| Norwegian Forest Cat |\tNorway | Natural\t| Cobby\t| Long\t| Chocolate or orange and white bicolor |\n",
    "| Ocicat | United States | Crossbreed between the Abyssinian, American Shorthair and Siamese | Large | Short | Spotted tabby |\n"
   ]
  },
  {
   "cell_type": "markdown",
   "id": "98ce584f-57e7-4e96-881e-8807a7e37140",
   "metadata": {},
   "source": [
    "### Problem 2. Formulas and LaTeX\n",
    "Writing math formulas has always been hard. But scientists don't like difficulties and prefer standards. So, thanks to Donald Knuth (a very popular computer scientist, who also invented a lot of algorithms), we have a nice typesetting system, called LaTeX (pronounced _lah_-tek). We'll be using it mostly for math formulas, but it has a lot of other things to offer.\n",
    "\n",
    "There are two main ways to write formulas. You could enclose them in single `$` signs like this: `$ ax + b $`, which will create an **inline formula**: $ ax + b $. You can also enclose them in double `$` signs `$$ ax + b $$` to produce $$ ax + b $$\n",
    "\n",
    "Most commands start with a backslash and accept parameters either in square brackets `[]` or in curly braces `{}`. For example, to make a fraction, you typically would write `$$ \\frac{a}{b} $$`: $$ \\frac{a}{b} $$\n",
    "\n",
    "[Here's a resource](http://www.stat.pitt.edu/stoffer/freetex/latex%20basics.pdf) where you can look up the basics of the math syntax. You can also search StackOverflow - there are all sorts of solutions there.\n",
    "\n",
    "You're on your own now. Research and recreate all formulas shown in the next cell. Try to make your cell look exactly the same as mine. It's an image, so don't try to cheat by copy/pasting :D.\n",
    "\n",
    "Note that you **do not** need to understand the formulas, what's written there or what it means. We'll have fun with these later in the course.\n",
    "\n",
    "![Math formulas and equations](math.jpg)"
   ]
  },
  {
   "cell_type": "markdown",
   "id": "31d8e79f-c280-4d62-99c6-27a55245323e",
   "metadata": {},
   "source": [
    "<p style=\"color: #d9534f\">Second problem formulas are here.</p>\n",
    "\n",
    "Equation of a line:  $ \\quad \\qquad \\ \\ \\ \\ \\ y = ax + b $ \n",
    "\n",
    "Roots of the quadratic equation  $ ax^2 + bx + c = 0 $:  $$ x_{1,2} = \\frac{ -b \\pm \\sqrt{b^2 - 4ac}}{2a} $$\n",
    "Taylor series expansion: $$ f(x)\\left|\\right._{x=a} = f(a) + f'(a)(x-a) + \\frac{f^n(a)}{2!}(x-a)^2 + \\dots + \\frac{f^{(n)}(a)}{n!}(x-a)^n + \\dots $$\n",
    "Binominal theorem: $$ (x + y)^n = \\binom{n}{0}x^ny^0 + \\binom{n}{1}x^{n-1}y^1 + \\dots + \\binom{n}{n}x^{0}y^n = \\sum_{k = 0}^{n}\\binom{n}{k}x^{n-k}y^k $$\n",
    "An integral: $$ \\int_{-\\infty}^{+\\infty} {e^{-x}}^2\\text{d}x = \\sqrt{\\pi}$$\n",
    "A short matrix:\n",
    "\\begin{pmatrix}\n",
    "2 & 1 & 3\\\\\n",
    "2 & 6 & 8\\\\\n",
    "6 & 8 & 18\\\\\n",
    "\\end{pmatrix}\t\n",
    "\n",
    "A long matrix:\n",
    "\\begin{equation}\n",
    "A = \n",
    "\\begin{pmatrix}\n",
    "a_{11} & a_{12} & \\dots  & a_{1n} \\\\\n",
    "a_{21} & a_{22} & \\dots  & a_{2n} \\\\\n",
    "\\vdots & \\vdots & \\vdots & \\vdots \\\\\n",
    "a_{m1} & a_{m2} & \\dots  & a_{mn}\n",
    "\\end{pmatrix}\t\n",
    "\n",
    "\\end{equation}\n",
    "\n"
   ]
  },
  {
   "cell_type": "markdown",
   "id": "bbdc87dc-b549-4928-ae4c-e3d4c6260c69",
   "metadata": {
    "tags": []
   },
   "source": [
    "### Problem 3. Solving equations with Python\n",
    "Let's first do some symbolic computation. We need to import `sympy` first. \n",
    "\n",
    "**Should your imports be in a single cell at the top or should they appear as they are used?** There's not a single valid best practice. Most people seem to prefer imports at the top of the file though. **Note: If you write new code in a cell, you have to re-execute it!**\n",
    "\n",
    "Let's use `sympy` to give us a quick symbolic solution to our equation. First import `sympy` (you can use the second cell in this notebook): \n",
    "```python \n",
    "import sympy \n",
    "```\n",
    "\n",
    "Next, create symbols for all variables and parameters. You may prefer to do this in one pass or separately:\n",
    "```python \n",
    "x = sympy.symbols('x')\n",
    "a, b, c = sympy.symbols('a b c')\n",
    "```\n",
    "\n",
    "Now solve:\n",
    "```python \n",
    "sympy.solve(a * x**2 + b * x + c)\n",
    "```"
   ]
  },
  {
   "cell_type": "code",
   "execution_count": 10,
   "id": "b165a1ac-2fd7-4125-940d-1b7d3e44c36c",
   "metadata": {},
   "outputs": [],
   "source": [
    "# Write your code here"
   ]
  },
  {
   "cell_type": "code",
   "execution_count": 11,
   "id": "c481c3e4-c82c-4eb8-b495-4b94eba8c23c",
   "metadata": {
    "tags": []
   },
   "outputs": [],
   "source": [
    "x = sympy.symbols('x')\n",
    "a, b, c = sympy.symbols('a b c')"
   ]
  },
  {
   "cell_type": "code",
   "execution_count": 12,
   "id": "ef7357ce-563e-4800-a75d-344491f19ca1",
   "metadata": {
    "tags": []
   },
   "outputs": [
    {
     "data": {
      "text/plain": [
       "[(-b - sqrt(-4*a*c + b**2))/(2*a), (-b + sqrt(-4*a*c + b**2))/(2*a)]"
      ]
     },
     "execution_count": 12,
     "metadata": {},
     "output_type": "execute_result"
    }
   ],
   "source": [
    "sympy.solve(a * x**2 + b * x + c, x)"
   ]
  },
  {
   "cell_type": "markdown",
   "id": "47bc58e0-4067-4e33-9e0a-35ba944878af",
   "metadata": {},
   "source": [
    "Hmmmm... we didn't expect that :(. We got an expression for $a$ because the library tried to solve for the first symbol it saw. This is an equation and we have to solve for $x$. We can provide it as a second parameter:\n",
    "```python \n",
    "sympy.solve(a * x**2 + b * x + c, x)\n",
    "```\n",
    "\n",
    "Finally, if we start with `sympy.init_printing()`, we'll get a LaTeX-formatted result instead of a typed one. This is very useful because it produces better-looking formulas. **Note:** This means we have to add the line BEFORE we start working with `sympy`."
   ]
  },
  {
   "cell_type": "code",
   "execution_count": 14,
   "id": "bc0858ee-b198-46d4-8c6b-e875d5d0b9be",
   "metadata": {},
   "outputs": [],
   "source": [
    "sympy.init_printing()"
   ]
  },
  {
   "cell_type": "code",
   "execution_count": 15,
   "id": "941f7bb4-ab21-4b7b-ab9a-7b95c7c5d5bc",
   "metadata": {},
   "outputs": [
    {
     "data": {
      "image/png": "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\n",
      "text/latex": [
       "$\\displaystyle \\left[ \\frac{- b - \\sqrt{- 4 a c + b^{2}}}{2 a}, \\  \\frac{- b + \\sqrt{- 4 a c + b^{2}}}{2 a}\\right]$"
      ],
      "text/plain": [
       "⎡        _____________          _____________⎤\n",
       "⎢       ╱           2          ╱           2 ⎥\n",
       "⎢-b - ╲╱  -4⋅a⋅c + b    -b + ╲╱  -4⋅a⋅c + b  ⎥\n",
       "⎢─────────────────────, ─────────────────────⎥\n",
       "⎣         2⋅a                    2⋅a         ⎦"
      ]
     },
     "execution_count": 15,
     "metadata": {},
     "output_type": "execute_result"
    }
   ],
   "source": [
    "# Write your code here\n",
    "sympy.solve(a * x**2 + b * x + c, x)"
   ]
  },
  {
   "cell_type": "markdown",
   "id": "f366e586-f407-4031-90d5-5a57f13ae500",
   "metadata": {},
   "source": [
    "How about a function that takes $a, b, c$ (assume they are real numbers, you don't need to do additional checks on them) and returns the **real** roots of the quadratic equation?\n",
    "\n",
    "Remember that in order to calculate the roots, we first need to see whether the expression under the square root sign is non-negative.\n",
    "\n",
    "If $b^2 - 4ac > 0$, the equation has two real roots: $x_1, x_2$\n",
    "\n",
    "If $b^2 - 4ac = 0$, the equation has one real root: $x_1 = x_2$\n",
    "\n",
    "If $b^2 - 4ac < 0$, the equation has zero real roots\n",
    "\n",
    "Write a function which returns the roots. In the first case, return a list of 2 numbers: `[2, 3]`. In the second case, return a list of only one number: `[2]`. In the third case, return an empty list: `[]`."
   ]
  },
  {
   "cell_type": "code",
<<<<<<< HEAD
   "execution_count": 47,
=======
<<<<<<< HEAD
   "execution_count": 17,
=======
   "execution_count": 71,
>>>>>>> 63150dba5b42323a585a8340b5930b4b02f83b6b
   "id": "c3416582-4411-4120-b31e-37ca2089d564",
   "metadata": {
    "tags": []
   },
   "outputs": [],
   "source": [
    "def solve_linear_equation(a, b):\n",
    "    return [] if a == 0 else [-b / a]"
   ]
  },
  {
   "cell_type": "code",
<<<<<<< HEAD
   "execution_count": 18,
=======
   "execution_count": 73,
>>>>>>> 63150dba5b42323a585a8340b5930b4b02f83b6b
>>>>>>> 208ae6becf04dd75f158bc5c1cc688b9c8f6618a
   "id": "849d39a7-850e-42c8-9716-da8af7526953",
   "metadata": {},
   "outputs": [],
   "source": [
    "def solve_quadratic_equation(a, b, c):\n",
    "    \"\"\"\n",
    "    Returns the real solutions of the quadratic equation ax^2 + bx + c = 0\n",
    "    \"\"\"\n",
    "    if a == 0:\n",
    "        if b == 0:\n",
    "            return []\n",
    "        else:\n",
    "            return [-c / b]\n",
    "    \n",
    "    D = b ** 2 - 4 * a * c\n",
    "    if D > 0:\n",
    "        return [(-b - math.sqrt(D))/(2*a), (-b + math.sqrt(D))/(2*a)]\n",
    "    elif D == 0:\n",
    "        return [-b/(2*a)]\n",
    "    else:\n",
    "        return[]"
   ]
  },
  {
   "cell_type": "code",
<<<<<<< HEAD
   "execution_count": 63,
=======
<<<<<<< HEAD
   "execution_count": 19,
=======
   "execution_count": 75,
>>>>>>> 63150dba5b42323a585a8340b5930b4b02f83b6b
>>>>>>> 208ae6becf04dd75f158bc5c1cc688b9c8f6618a
   "id": "f4e1989d-01ad-4c17-90c9-8209b2656b25",
   "metadata": {},
   "outputs": [
    {
     "name": "stdout",
     "output_type": "stream",
     "text": [
      "[-1.0, 2.0]\n",
      "[4.0]\n",
      "[]\n",
      "[-1.0]\n",
      "[]\n",
      "[-2.0]\n",
      "[-0.5]\n"
     ]
    }
   ],
   "source": [
    "# Testing: Execute this cell. The outputs should match the expected outputs. Feel free to write more tests\n",
    "print(solve_quadratic_equation(1, -1, -2)) # [-1.0, 2.0]\n",
    "print(solve_quadratic_equation(1, -8, 16)) # [4.0]\n",
    "print(solve_quadratic_equation(1, 1, 1)) # []\n",
    "print(solve_quadratic_equation(0, 1, 1)) # [-1]\n",
    "print(solve_quadratic_equation(0, 0, 1)) # []\n",
    "print(solve_quadratic_equation(0, 3, 6)) # [-2]\n",
    "print(solve_quadratic_equation(0, 8, 4)) # [-0.5]"
   ]
  },
  {
   "cell_type": "markdown",
   "id": "982c5bd6-9793-4806-9730-8eb51f92aa92",
   "metadata": {},
   "source": [
    "**Bonus:** Last time we saw how to solve a linear equation. Remember that linear equations are just like quadratic equations with $a = 0$. In this case, however, division by 0 will throw an error. Extend your function above to support solving linear equations (in the same way we did it last time).\n",
    "\n",
    "**Bonus 2:** Actually, every quadratic equation (with a non-zero leading term $a$) has exactly two solutions. Find out what they are, why there are two of them, and how to compute them. If you've followed the steps outlined above, _you should add a single letter_ somewhere in your code to always obtain the two solutions to the quadratic equation."
   ]
  },
  {
   "cell_type": "markdown",
   "id": "055d653c-97d8-4757-b0ee-379d1ad273f6",
   "metadata": {},
   "source": [
    "### * Problem 4. Getting started with `math`\n",
    "This one is for your enjoyment and practice, rather than a very strict assignment. Note that you'll see some problems like this.\n",
    "\n",
    "We just saw the `math` library. `import`s are a very import-ant ;) part of Python, as they allow us to reuse someone else's computations.\n",
    "\n",
    "Try out the \"trinity\" of functions: power ($x^y$), square root ($\\sqrt{x}$) and logarithms ($\\log_a(x)$) using the `math` library. In the next problems, you'll be graphing equations, so you will be able to see what the plots of these functions look like.\n",
    "\n",
    "Some questions to think about:\n",
    "* What are the _domain_ and _codomain_ of each function?\n",
    "* How does $\\sqrt{x}$ relate to $x^2$? Are there any restrictions on $x$? Are there any differences between what you'd expect in the math and what Python returns?\n",
    "* There's a native `pow()` function in Python. How does it compare to `math.pow()`?\n",
    "* How do we represent logarithms in an arbitrary base?\n",
    "* Actually, can we check (or even prove) some properties of logarihtms using Python? Look [here](https://www.cuemath.com/algebra/properties-of-logarithms/) for a refresher."
   ]
  },
  {
   "cell_type": "code",
<<<<<<< HEAD
   "execution_count": null,
   "id": "1a878f1c-2d65-4dc8-b945-3e627d856578",
   "metadata": {},
   "outputs": [],
=======
<<<<<<< HEAD
   "execution_count": 22,
=======
   "execution_count": 11,
>>>>>>> 63150dba5b42323a585a8340b5930b4b02f83b6b
   "id": "1a878f1c-2d65-4dc8-b945-3e627d856578",
   "metadata": {},
   "outputs": [
    {
     "name": "stdout",
     "output_type": "stream",
     "text": [
      "5.000000000000001\n",
      "False\n",
      "32\n",
      "32.0\n"
     ]
    },
    {
     "data": {
<<<<<<< HEAD
      "image/png": "iVBORw0KGgoAAAANSUhEUgAAACEAAAAQCAYAAACYwhZnAAAAOXRFWHRTb2Z0d2FyZQBNYXRwbG90bGliIHZlcnNpb24zLjguMCwgaHR0cHM6Ly9tYXRwbG90bGliLm9yZy81sbWrAAAACXBIWXMAABJ0AAASdAHeZh94AAAB7ElEQVR4nM3VT4gNUBTH8c+IqMmfKFnIv8mfkmyEaYpQmmJjYSOyFUXYKIvjKDtpGn9iRdhjQ00xJWQt5V+YnSgxIaV4Fu++eu/Ne3qvFGfz697z69zvPfd2b0+lUvGvY3L9IDPHsLCN931EzOumeGbOx0kMYg7e4SYyIj61hCgxjqEW81+7BOjDI8zFLTzHWhzCYGYORMTHdhCfI+JENwu2iQsF4GBEnK2DO4PDOIV9MOkvLDYhMnMJtmIM55vSgW/Yk5m9tO7E1MzcjQXF/AT3I+JnFxybi45ExK8GgogvmfmwQK7H3VadmIdrqu0awj28ysyNXUAsL/qyTf5V0WVMPI7L2FJAerEKl7AIdzJzdYcQM4uOt8nX5mfRdBwRkU3mp9iXmV9xFCewo0OQP0VP0QqdX8yLRTd06K/tdGab/Ix6X6cQH4r2duh/UXRZm/zSoi+7gegv+qZD/2jRrZnZsEZmTscAvuNxA0RmrszM2c3VMnMhzpXh9aZcX2auyMwp9fMR8Rojqhf6QHNJ1Y5ejYhvNF7MnTiWmaN4iy/owzZMw22cbip4V/WvWaz6MNXHftVnezgzt+AZ1mGT6jEcrxnrWzWKG6XgLhzBRjzAXmyPiB86jNKNNbhSFj9aNjWM/tq/AT3/w1f+G8Zzj2HUEHrjAAAAAElFTkSuQmCC\n",
      "text/latex": [
       "$\\displaystyle 5.0$"
      ],
=======
>>>>>>> 63150dba5b42323a585a8340b5930b4b02f83b6b
      "text/plain": [
       "5.0"
      ]
     },
<<<<<<< HEAD
     "execution_count": 22,
=======
     "execution_count": 11,
>>>>>>> 63150dba5b42323a585a8340b5930b4b02f83b6b
     "metadata": {},
     "output_type": "execute_result"
    }
   ],
>>>>>>> 208ae6becf04dd75f158bc5c1cc688b9c8f6618a
   "source": [
    "# Write your code here. Of course, you may add more cells if needed."
   ]
  },
  {
   "cell_type": "markdown",
   "id": "ade51c74-dd21-4c1f-ae58-5222b489431d",
   "metadata": {},
   "source": [
    "### Problem 5. Equation of a Line\n",
    "Let's go back to our linear equations and systems. There are many ways to define what \"linear\" means, but they all boil down to the same thing.\n",
    "\n",
    "The equation $ax + b = 0$ is called *linear* because the function $f(x) = ax+b$ is a linear function. We know that there are several ways to know what one particular function means. One of them is to just write the expression for it, as we did above. Another way is to **plot** it. This is one of the most exciting parts of maths and science - when we have to fiddle around with beautiful plots (although not so beautiful in this case).\n",
    "\n",
    "The function produces a straight line and we can see it.\n",
    "\n",
    "How do we plot functions in general? We know that functions take many (possibly infinitely many) inputs. We can't draw all of them. We could, however, evaluate the function at some points and connect them with tiny straight lines. If the points are too many, we won't notice - the plot will look smooth.\n",
    "\n",
    "Now, let's take a function, e.g. $y = 2x + 3$ and plot it. For this, we're going to use `numpy` arrays. This is a special type of array which has two characteristics:\n",
    "* All elements in it must be of the same type\n",
    "* All operations are **broadcast**: if `x = [1, 2, 3, 10]` and we write `2 * x`, we'll get `[2, 4, 6, 20]`. That is, all operations are performed at all indices. This is very powerful, easy to use and saves us A LOT of looping.\n",
    "\n",
    "There's one more thing: it's blazingly fast because all computations are done in C, instead of Python.\n",
    "\n",
    "First let's import `numpy`. Since the name is a bit long, a common convention is to give it an **alias**:\n",
    "```python\n",
    "import numpy as np\n",
    "```\n",
    "\n",
    "Import that at the top cell and don't forget to re-run it.\n",
    "\n",
    "Next, let's create a range of values, e.g. $[-3, 5]$. There are two ways to do this. `np.arange(start, stop, step)` will give us evenly spaced numbers with a given step, while `np.linspace(start, stop, num)` will give us `num` samples. You see, one uses a fixed step, the other uses a number of points to return. When plotting functions, we usually use the latter. Let's generate, say, 1000 points (we know a straight line only needs two but we're generalizing the concept of plotting here :)).\n",
    "```python\n",
    "x = np.linspace(-3, 5, 1000)\n",
    "```\n",
    "Now, let's generate our function variable\n",
    "```python\n",
    "y = 2 * x + 3\n",
    "```\n",
    "\n",
    "We can print the values if we like but we're more interested in plotting them. To do this, first let's import a plotting library. `matplotlib` is the most commnly used one and we usually give it an alias as well.\n",
    "```python\n",
    "import matplotlib.pyplot as plt\n",
    "```\n",
    "\n",
    "Now, let's plot the values. To do this, we just call the `plot()` function. Notice that the top-most part of this notebook contains a \"magic string\": `%matplotlib inline`. This hints Jupyter to display all plots inside the notebook. However, it's a good practice to call `show()` after our plot is ready.\n",
    "```python\n",
    "plt.plot(x, y)\n",
    "plt.show()\n",
    "```"
   ]
  },
  {
   "cell_type": "code",
<<<<<<< HEAD
   "execution_count": null,
=======
<<<<<<< HEAD
   "execution_count": 24,
=======
   "execution_count": 37,
>>>>>>> 63150dba5b42323a585a8340b5930b4b02f83b6b
>>>>>>> 208ae6becf04dd75f158bc5c1cc688b9c8f6618a
   "id": "90bc9266-91e5-4009-b24d-19cb29174ff3",
   "metadata": {},
   "outputs": [],
   "source": [
<<<<<<< HEAD
    "# Write your code here"
=======
    "# Write your code here\n",
    "x = np.linspace(-3, 5, 1000)\n",
    "y = 2 * x + 3\n",
    "plt.plot(x, y)\n",
    "plt.show()"
   ]
  },
  {
   "cell_type": "code",
<<<<<<< HEAD
   "execution_count": 25,
=======
   "execution_count": 61,
>>>>>>> 63150dba5b42323a585a8340b5930b4b02f83b6b
   "id": "9ed8dc68-d5ac-4e12-b742-f45bc333b6bf",
   "metadata": {
    "tags": []
   },
   "outputs": [
    {
     "data": {
<<<<<<< HEAD
      "image/png": "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",
=======
      "image/png": "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",
>>>>>>> 63150dba5b42323a585a8340b5930b4b02f83b6b
      "text/plain": [
       "<Figure size 640x480 with 1 Axes>"
      ]
     },
     "metadata": {},
     "output_type": "display_data"
    }
   ],
   "source": [
    "x = np.linspace(-20, 20, 1000)\n",
    "y = np.sin(x)\n",
<<<<<<< HEAD
    "plt.plot(x, y, c = \"g\", lw = 2, linestyle = \"dotted\")\n",
=======
    "plt.plot(x, y, c = \"g\", lw = 5, linestyle = \"dotted\")\n",
>>>>>>> 63150dba5b42323a585a8340b5930b4b02f83b6b
    "x = np.linspace(-20, 20, 1000)\n",
    "y =  0.25 * x + 0.1\n",
    "plt.plot(x, y,c = \"r\", lw = 3)\n",
    "plt.show()"
>>>>>>> 208ae6becf04dd75f158bc5c1cc688b9c8f6618a
   ]
  },
  {
   "cell_type": "markdown",
   "id": "f1570103-dae9-4b0b-a7a9-ceb963388e00",
   "metadata": {},
   "source": [
    "It doesn't look too bad bit we can do much better. See how the axes don't look like they should? Let's move them to zero. This can be done using the \"spines\" of the plot (i.e. the borders).\n",
    "\n",
    "All `matplotlib` figures can have many plots (subfigures) inside them. That's why when performing an operation, we have to specify a target figure. There is a default one and we can get it by using `plt.gca()`. We usually call it `ax` for \"axis\".\n",
    "Let's save it in a variable (in order to prevent multiple calculations and to make code prettier). Let's now move the bottom and left spines to the origin $(0, 0)$ and hide the top and right one.\n",
    "```python\n",
    "ax = plt.gca()\n",
    "ax.spines[\"bottom\"].set_position(\"zero\")\n",
    "ax.spines[\"left\"].set_position(\"zero\")\n",
    "ax.spines[\"top\"].set_visible(False)\n",
    "ax.spines[\"right\"].set_visible(False)\n",
    "```\n",
    "\n",
    "**Note:** All plot manipulations HAVE TO be done before calling `show()`. It's up to you whether they should be before or after the function you're plotting.\n",
    "\n",
    "This should look better now. We can, of course, do much better (e.g. remove the double 0 at the origin and replace it with a single one), but this is left as an exercise for the reader :)."
   ]
  },
  {
   "cell_type": "code",
   "execution_count": null,
   "id": "815b0f38-64f0-4e98-962e-ade8854ec1f5",
   "metadata": {},
   "outputs": [],
   "source": [
    "# Copy and edit your code here"
   ]
  },
  {
   "cell_type": "markdown",
   "id": "e6f94bcf-02fa-46a8-be0f-ee79f4fe3db6",
   "metadata": {},
   "source": [
    "### * Problem 6. Linearizing Functions\n",
    "Why is the line equation so useful? The main reason is because it's so easy to work with. Scientists actually try their best to linearize functions, that is, to make linear functions from non-linear ones. There are several ways of doing this. One of them involves derivatives and we'll talk about it later in the course. \n",
    "\n",
    "A commonly used method for linearizing functions is through algebraic transformations. Try to linearize \n",
    "$$ y = ae^{bx} $$\n",
    "\n",
    "Hint: The inverse operation of $e^{x}$ is $\\ln(x)$. Start by taking $\\ln$ of both sides and see what you can do. Your goal is to transform the function into another, linear function. You can look up more hints on the Internet :)."
   ]
  },
  {
   "cell_type": "markdown",
   "id": "f0009bc7-ab6d-43d6-88ff-a26ebdf4827d",
   "metadata": {},
   "source": [
    "<p style=\"color: #d9534f\">Write your result here.</p>"
   ]
  },
  {
   "cell_type": "markdown",
   "id": "88a4dea7-6dd3-4594-ba5a-93352bc7fa1c",
   "metadata": {},
   "source": [
    "### * Problem 7. Generalizing the Plotting Function\n",
    "Let's now use the power of Python to generalize the code we created to plot. In Python, you can pass functions as parameters to other functions. We'll utilize this to pass the math function that we're going to plot.\n",
    "\n",
    "Note: We can also pass *lambda expressions* (anonymous functions) like this: \n",
    "```python\n",
    "lambda x: x + 2```\n",
    "This is a shorter way to write\n",
    "```python\n",
    "def some_anonymous_function(x):\n",
    "    return x + 2\n",
    "```\n",
    "\n",
    "We'll also need a range of x values. We may also provide other optional parameters which will help set up our plot. These may include titles, legends, colors, fonts, etc. Let's stick to the basics now.\n",
    "\n",
    "Write a Python function which takes another function, x range and number of points, and plots the function graph by evaluating it at every point.\n",
    "\n",
    "**BIG hint:** If you want to use not only `numpy` functions for `f` but any one function, a very useful (and easy) thing to do, is to vectorize the function `f` (e.g. to allow it to be used with `numpy` broadcasting):\n",
    "```python\n",
    "f_vectorized = np.vectorize(f)\n",
    "y = f_vectorized(x)\n",
    "```"
   ]
  },
  {
   "cell_type": "code",
   "execution_count": null,
   "id": "7dcdae7b-96bf-47fa-9ef7-1401d5be652b",
   "metadata": {},
   "outputs": [],
   "source": [
    "def plot_math_function(f, min_x, max_x, num_points):\n",
    "    # Write your code here\n",
    "    pass"
   ]
  },
  {
   "cell_type": "code",
   "execution_count": null,
   "id": "9a420422-26da-4592-b7ab-d99895138f16",
   "metadata": {},
   "outputs": [],
   "source": [
    "plot_math_function(lambda x: 2 * x + 3, -3, 5, 1000)\n",
    "plot_math_function(lambda x: -x + 8, -1, 10, 1000)\n",
    "plot_math_function(lambda x: x**2 - x - 2, -3, 4, 1000)\n",
    "plot_math_function(lambda x: np.sin(x), -np.pi, np.pi, 1000)\n",
    "plot_math_function(lambda x: np.sin(x) / x, -4 * np.pi, 4 * np.pi, 1000)"
   ]
  },
  {
   "cell_type": "markdown",
   "id": "36cb2af6-780c-4c7e-87ea-ba771f3f79eb",
   "metadata": {},
   "source": [
    "### * Problem 8. Solving Equations Graphically\n",
    "Now that we have a general plotting function, we can use it for more interesting things. Sometimes we don't need to know what the exact solution is, just to see where it lies. We can do this by plotting the two functions around the \"=\" sign ans seeing where they intersect. Take, for example, the equation $2x + 3 = 0$. The two functions are $f(x) = 2x + 3$ and $g(x) = 0$. Since they should be equal, the point of their intersection is the solution of the given equation. We don't need to bother marking the point of intersection right now, just showing the functions.\n",
    "\n",
    "To do this, we'll need to improve our plotting function yet once. This time we'll need to take multiple functions and plot them all on the same graph. Note that we still need to provide the $[x_{min}; x_{max}]$ range and it's going to be the same for all functions.\n",
    "\n",
    "```python\n",
    "vectorized_fs = [np.vectorize(f) for f in functions]\n",
    "ys = [vectorized_f(x) for vectorized_f in vectorized_fs]\n",
    "```"
   ]
  },
  {
   "cell_type": "code",
   "execution_count": null,
   "id": "fdcfb549-2bc0-4f9c-913c-733d24cf6a50",
   "metadata": {},
   "outputs": [],
   "source": [
    "def plot_math_functions(functions, min_x, max_x, num_points):\n",
    "    # Write your code here\n",
    "    pass"
   ]
  },
  {
   "cell_type": "code",
   "execution_count": null,
   "id": "f6aecaf4-be8e-4e54-9ac4-c0ee23f94904",
   "metadata": {},
   "outputs": [],
   "source": [
    "plot_math_functions([lambda x: 2 * x + 3, lambda x: 0], -3, 5, 1000)\n",
    "plot_math_functions([lambda x: 3 * x**2 - 2 * x + 5, lambda x: 3 * x + 7], -2, 3, 1000)"
   ]
  },
  {
   "cell_type": "markdown",
   "id": "29b15bd7-94da-4d9b-b3fd-14360b396310",
   "metadata": {},
   "source": [
    "This is also a way to plot the solutions of systems of equation, like the one we solved last time. Let's actually try it."
   ]
  },
  {
   "cell_type": "code",
   "execution_count": null,
   "id": "c1e7e947-3e84-4305-8578-737c3c5f04ed",
   "metadata": {},
   "outputs": [],
   "source": [
    "plot_math_functions([lambda x: (-4 * x + 7) / 3, lambda x: (-3 * x + 8) / 5, lambda x: (-x - 1) / -2], -1, 4, 1000)"
   ]
  },
  {
   "cell_type": "markdown",
   "id": "cc268677-b138-46a2-b03d-db04d5bdd437",
   "metadata": {},
   "source": [
    "### Problem 9. Trigonometric Functions\n",
    "We already saw the graph of the function $y = \\sin(x)$. But then again, how do we define the trigonometric functions? Let's quickly review that.\n",
    "\n",
    "![Right triangle](angle-in-right-triangle.png)\n",
    "\n",
    "The two basic trigonometric functions are defined as the ratio of two sides:\n",
    "$$ \\sin(x) = \\frac{\\text{opposite}}{\\text{hypotenuse}} $$\n",
    "$$ \\cos(x) = \\frac{\\text{adjacent}}{\\text{hypotenuse}} $$\n",
    "\n",
    "And also:\n",
    "$$ \\tan(x) = \\frac{\\text{opposite}}{\\text{adjacent}} = \\frac{\\sin(x)}{\\cos(x)} $$\n",
    "$$ \\cot(x) = \\frac{\\text{adjacent}}{\\text{opposite}} = \\frac{\\cos(x)}{\\sin(x)} $$\n",
    "\n",
    "This is fine, but using this, \"right-triangle\" definition, we're able to calculate the trigonometric functions of angles up to $90^\\circ$. But we can do better. Let's now imagine a circle centered at the origin of the coordinate system, with radius $r = 1$. This is called a \"unit circle\".\n",
    "\n",
    "![Trigonometric unit circle](triangle-unit-circle.png)\n",
    "\n",
    "We can now see exactly the same picture. The $x$-coordinate of the point in the circle corresponds to $\\cos(\\alpha)$ and the $y$-coordinate - to $\\sin(\\alpha)$. What did we get? We're now able to define the trigonometric functions for all degrees up to $360^\\circ$. After that, the same values repeat: these functions are **periodic**: \n",
    "$$ \\sin(k.360^\\circ + \\alpha) = \\sin(\\alpha), k = 0, 1, 2, \\dots $$\n",
    "$$ \\cos(k.360^\\circ + \\alpha) = \\cos(\\alpha), k = 0, 1, 2, \\dots $$\n",
    "\n",
    "We can, of course, use this picture to derive other identities, such as:\n",
    "$$ \\sin(90^\\circ + \\alpha) = \\cos(\\alpha) $$\n",
    "\n",
    "A very important property of the sine and cosine is that they accept values in the range $(-\\infty; \\infty)$ and produce values in the range $[-1; 1]$. The two other functions take values in the range $(-\\infty; \\infty)$ **except when their denominators are zero** and produce values in the same range. \n",
    "\n",
    "#### Radians\n",
    "A degree is a geometric object, $1/360$th of a full circle. This is quite inconvenient when we work with angles. There is another, natural and intrinsic measure of angles. It's called the **radian** and can be written as $\\text{rad}$ or without any designation, so $\\sin(2)$ means \"sine of two radians\".\n",
    "\n",
    "![Radian definition](radian.gif)\n",
    "\n",
    "It's defined as *the central angle of an arc with length equal to the circle's radius* and $1\\text{rad} \\approx 57.296^\\circ$.\n",
    "\n",
    "We know that the circle circumference is $C = 2\\pi r$, therefore we can fit exactly $2\\pi$ arcs with length $r$ in $C$. The angle corresponding to this is $360^\\circ$ or $2\\pi\\ \\text{rad}$. Also, $\\pi \\text{rad} = 180^\\circ$.\n",
    "\n",
    "(Some people prefer using $\\tau = 2\\pi$ to avoid confusion with always multiplying by 2 or 0.5 but we'll use the standard notation here.)\n",
    "\n",
    "**NOTE:** All trigonometric functions in `math` and `numpy` accept radians as arguments. In order to convert between radians and degrees, you can use the relations $\\text{[deg]} = 180/\\pi.\\text{[rad]}, \\text{[rad]} =  \\pi/180.\\text{[deg]}$. This can be done using `np.deg2rad()` and `np.rad2deg()` respectively.\n",
    "\n",
    "#### Inverse trigonometric functions\n",
    "All trigonometric functions have their inverses. If you plug in, say $\\pi/4$ in the $\\sin(x)$ function, you get $\\sqrt{2}/2$. The inverse functions (also called, arc-functions) take arguments in the interval $[-1; 1]$ and return the angle that they correspond to. Take arcsine for example:\n",
    "$$ \\arcsin(y) = x: sin(x) = y $$\n",
    "$$ \\arcsin\\left(\\frac{\\sqrt{2}}{2}\\right) = \\frac{\\pi}{4} $$\n",
    "\n",
    "Please note that this is NOT entirely correct. From the relations we found:\n",
    "$$\\sin(x) = sin(2k\\pi + x), k = 0, 1, 2, \\dots $$\n",
    "\n",
    "it follows that $\\arcsin(x)$ has infinitely many values, separated by $2k\\pi$ radians each:\n",
    "$$ \\arcsin\\left(\\frac{\\sqrt{2}}{2}\\right) = \\frac{\\pi}{4} + 2k\\pi, k = 0, 1, 2, \\dots $$\n",
    "\n",
    "In most cases, however, we're interested in the first value (when $k = 0$). It's called the **principal value**.\n",
    "\n",
    "Note 1: There are inverse functions for all four basic trigonometric functions: $\\arcsin$, $\\arccos$, $\\arctan$, $\\text{arccot}$. These are sometimes written as $\\sin^{-1}(x)$, $\\cos^{-1}(x)$, etc. These definitions are completely equivalent. \n",
    "\n",
    "Just notice the difference between $\\sin^{-1}(x) := \\arcsin(x)$ and $\\sin(x^{-1}) = \\sin(1/x)$."
   ]
  },
  {
   "cell_type": "markdown",
   "id": "9d4a1a6e-1550-4a43-8494-2fa6b1975956",
   "metadata": {},
   "source": [
    "#### Exercise\n",
    "Use the plotting function you wrote above to plot the inverse trigonometric functions. Use `numpy` (look up how to use inverse trigonometric functions)."
   ]
  },
  {
   "cell_type": "code",
   "execution_count": null,
   "id": "fcc3fed4-6ef9-472a-856b-ae3fe6b4ee56",
   "metadata": {},
   "outputs": [],
   "source": [
    "# Write your code here"
   ]
  },
  {
   "cell_type": "markdown",
   "id": "833fe0b7-27dd-409e-9f1a-17c3dc0b0ae0",
   "metadata": {},
   "source": [
    "### * Problem 10. Perlin Noise\n",
    "This algorithm has many applications in computer graphics and can serve to demonstrate several things... and help us learn about math, algorithms and Python :).\n",
    "#### Noise\n",
    "Noise is just random values. We can generate noise by just calling a random generator. Note that these are actually called *pseudorandom generators*. We'll talk about this later in this course.\n",
    "We can generate noise in however many dimensions we want. For example, if we want to generate a single dimension, we just pick N random values and call it a day. If we want to generate a 2D noise space, we can take an approach which is similar to what we already did with `np.meshgrid()`.\n",
    "\n",
    "$$ \\text{noise}(x, y) = N, N \\in [n_{min}, n_{max}] $$\n",
    "\n",
    "This function takes two coordinates and returns a single number N between $n_{min}$ and $n_{max}$. (This is what we call a \"scalar field\").\n",
    "\n",
    "Random variables are always connected to **distributions**. We'll talk about these a great deal but now let's just say that these define what our noise will look like. In the most basic case, we can have \"uniform noise\" - that is, each point in our little noise space $[n_{min}, n_{max}]$ will have an equal chance (probability) of being selected.\n",
    "\n",
    "#### Perlin noise\n",
    "There are many more distributions but right now we'll want to have a look at a particular one. **Perlin noise** is a kind of noise which looks smooth. It looks cool, especially if it's colored. The output may be tweaked to look like clouds, fire, etc. 3D Perlin noise is most widely used to generate random terrain.\n",
    "\n",
    "#### Algorithm\n",
    "... Now you're on your own :). Research how the algorithm is implemented (note that this will require that you understand some other basic concepts like vectors and gradients).\n",
    "\n",
    "#### Your task\n",
    "1. Research about the problem. See what articles, papers, Python notebooks, demos, etc. other people have created\n",
    "2. Create a new notebook and document your findings. Include any assumptions, models, formulas, etc. that you're using\n",
    "3. Implement the algorithm. Try not to copy others' work, rather try to do it on your own using the model you've created\n",
    "4. Test and improve the algorithm\n",
    "5. (Optional) Create a cool demo :), e.g. using Perlin noise to simulate clouds. You can even do an animation (hint: you'll need gradients not only in space but also in time)\n",
    "6. Communicate the results\n",
    "\n",
    "Hint: [This](http://flafla2.github.io/2014/08/09/perlinnoise.html) is a very good resource. It can show you both how to organize your notebook (which is important) and how to implement the algorithm."
   ]
  }
 ],
 "metadata": {
  "kernelspec": {
   "display_name": "Python 3 (ipykernel)",
   "language": "python",
   "name": "python3"
  },
  "language_info": {
   "codemirror_mode": {
    "name": "ipython",
    "version": 3
   },
   "file_extension": ".py",
   "mimetype": "text/x-python",
   "name": "python",
   "nbconvert_exporter": "python",
   "pygments_lexer": "ipython3",
   "version": "3.11.7"
  }
 },
 "nbformat": 4,
 "nbformat_minor": 5
}
