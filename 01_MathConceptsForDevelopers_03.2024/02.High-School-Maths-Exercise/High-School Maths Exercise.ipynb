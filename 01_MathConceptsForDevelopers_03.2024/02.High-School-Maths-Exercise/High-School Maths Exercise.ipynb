{
 "cells": [
  {
   "cell_type": "code",
   "execution_count": 30,
   "id": "3e9fa11d-3550-443d-acad-cd9e88df6feb",
   "metadata": {},
   "outputs": [],
   "source": [
    "import sympy\n",
    "import math\n",
    "import numpy as np\n",
    "import matplotlib.pyplot as plt\n",
    "%config IPCompleter.greedy=True"
   ]
  },
  {
   "cell_type": "markdown",
   "id": "d44adea4-4931-4e21-beac-16dd1a4a1b0d",
   "metadata": {},
   "source": [
    "# High-School Maths Exercise\n",
    "## Getting to Know Jupyter Notebook. Python Libraries and Best Practices. Basic Workflow"
   ]
  },
  {
   "cell_type": "markdown",
   "id": "d9b16b44-93d7-4224-9b8a-bcff1b97ee6f",
   "metadata": {},
   "source": [
    "### Problem 1. Markdown\n",
    "Jupyter Notebook is a very light, beautiful and convenient way to organize your research and display your results. Let's play with it for a while.\n",
    "\n",
    "First, you can double-click each cell and edit its content. If you want to run a cell (that is, execute the code inside it), use Cell > Run Cells in the top menu or press <kbd>Ctrl</kbd> + <kbd>Enter</kbd>.\n",
    "\n",
    "Second, each cell has a type. There are two main types: Markdown (which is for any kind of free text, explanations, formulas, results... you get the idea), and code (which is, well... for code :D).\n",
    "\n",
    "Let me give you a...\n",
    "#### Quick Introduction to Markdown\n",
    "##### Text and Paragraphs\n",
    "There are several things that you can do. As you already saw, you can write paragraph text just by typing it. In order to create a new paragraph, just leave a blank line. See how this works below:\n",
    "```\n",
    "This is some text.\n",
    "This text is on a new line, but it will continue the same paragraph (so you can make your paragraphs more easily readable by just continuing on a new line, or just go on and on like this one line is ever continuing).\n",
    "\n",
    "This text is displayed in a new paragraph.\n",
    "\n",
    "And this is yet another paragraph.\n",
    "```\n",
    "**Result:**\n",
    "\n",
    "This is some text.\n",
    "This text is on a new line, but it will continue the same paragraph (so you can make your paragraphs more easily readable by just continuing on a new line, or just go on and on like this one line is ever continuing).\n",
    "\n",
    "This text is displayed in a new paragraph.\n",
    "\n",
    "And this is yet another paragraph.\n",
    "\n",
    "##### Headings\n",
    "There are six levels of headings. Level one is the highest (largest and most important), and level 6 is the smallest. You can create headings of several types by prefixing the header line with one to six \"#\" symbols (this is called a pound sign if you are ancient, or a sharp sign if you're a musician... or a hashtag if you're too young :D). Have a look:\n",
    "```\n",
    "# Heading 1\n",
    "## Heading 2\n",
    "### Heading 3\n",
    "#### Heading 4\n",
    "##### Heading 5\n",
    "###### Heading 6\n",
    "```\n",
    "\n",
    "**Result:**\n",
    "\n",
    "# Heading 1\n",
    "## Heading 2\n",
    "### Heading 3\n",
    "#### Heading 4\n",
    "##### Heading 5\n",
    "###### Heading 6\n",
    "\n",
    "It is recommended that you have **only one** H1 heading - this should be the header of your notebook (or scientific paper). Below that, you can add your name or just jump to the explanations directly.\n",
    "\n",
    "##### Emphasis\n",
    "You can create emphasized (stronger) text by using a **bold** or _italic_ font. You can do this in several ways (using asterisks (\\*) or underscores (\\_)). In order to \"escape\" a symbol, prefix it with a backslash (\\). You can also strike through your text in order to signify a correction.\n",
    "```\n",
    "**bold** __bold__\n",
    "*italic* _italic_\n",
    "\n",
    "This is \\*\\*not \\*\\* bold.\n",
    "\n",
    "I ~~didn't make~~ a mistake.\n",
    "```\n",
    "\n",
    "**Result:**\n",
    "\n",
    "**bold** __bold__\n",
    "*italic* _italic_\n",
    "\n",
    "This is \\*\\*not\\*\\* bold.\n",
    "\n",
    "I ~~didn't make~~ a mistake.\n",
    "\n",
    "##### Lists\n",
    "You can add two types of lists: ordered and unordered. Lists can also be nested inside one another. To do this, press <kbd>Tab</kbd> once (it will be converted to 4 spaces).\n",
    "\n",
    "To create an ordered list, just type the numbers. Don't worry if your numbers are wrong - Jupyter Notebook will create them properly for you. Well, it's better to have them properly numbered anyway...\n",
    "```\n",
    "1. This is\n",
    "2. A list\n",
    "10. With many\n",
    "9. Items\n",
    "    1. Some of which\n",
    "    2. Can\n",
    "        3. Be nested\n",
    "42. You can also\n",
    "    * Mix \n",
    "    * list\n",
    "    * types\n",
    "```\n",
    "\n",
    "**Result:**\n",
    "1. This is\n",
    "2. A list\n",
    "10. With many\n",
    "9. Items\n",
    "    1. Some of which\n",
    "    2. Can\n",
    "        3. Be nested\n",
    "42. You can also\n",
    "    * Mix \n",
    "    * list\n",
    "    * types\n",
    "    \n",
    "To create an unordered list, type an asterisk, plus or minus at the beginning:\n",
    "```\n",
    "* This is\n",
    "* An\n",
    "    + Unordered\n",
    "    - list\n",
    "```\n",
    "\n",
    "**Result:**\n",
    "* This is\n",
    "* An\n",
    "    + Unordered\n",
    "        - list\n",
    "        \n",
    "##### Links\n",
    "There are many ways to create links but we mostly use one of them: we present links with some explanatory text. See how it works:\n",
    "```\n",
    "This is [a link](http://google.com) to Google.\n",
    "```\n",
    "\n",
    "**Result:**\n",
    "\n",
    "This is [a link](http://google.com) to Google.\n",
    "\n",
    "##### Images\n",
    "They are very similar to links. Just prefix the image with an exclamation mark. The alt(ernative) text will be displayed if the image is not available. Have a look (hover over the image to see the title text):\n",
    "```\n",
    "![Alt text](http://i.imgur.com/dkY1gph.jpg) Do you know that \"taco cat\" is a palindrome? Thanks to The Oatmeal :)\n",
    "```\n",
    "\n",
    "**Result:**\n",
    "\n",
    "![Alt text](http://i.imgur.com/dkY1gph.jpg) Do you know that \"taco cat\" is a palindrome? Thanks to The Oatmeal :)\n",
    "\n",
    "If you want to resize images or do some more advanced stuff, just use HTML. \n",
    "\n",
    "Did I mention these cells support HTML, CSS and JavaScript? Now I did.\n",
    "\n",
    "##### Tables\n",
    "These are a pain because they need to be formatted (somewhat) properly. Here's a good [table generator](http://www.tablesgenerator.com/markdown_tables). Just select File > Paste table data... and provide a tab-separated list of values. It will generate a good-looking ASCII-art table for you.\n",
    "```\n",
    "| Cell1 | Cell2 | Cell3 |\n",
    "|-------|-------|-------|\n",
    "| 1.1   | 1.2   | 1.3   |\n",
    "| 2.1   | 2.2   | 2.3   |\n",
    "| 3.1   | 3.2   | 3.3   |\n",
    "```\n",
    "\n",
    "**Result:**\n",
    "\n",
    "| Cell1 | Cell2 | Cell3 |\n",
    "|-------|-------|-------|\n",
    "| 1.1   | 1.2   | 1.3   |\n",
    "| 2.1   | 2.2   | 2.3   |\n",
    "| 3.1   | 3.2   | 3.3   |\n",
    "\n",
    "##### Code\n",
    "Just use triple backtick symbols. If you provide a language, it will be syntax-highlighted. You can also use inline code with single backticks.\n",
    "<pre>\n",
    "```python\n",
    "def square(x):\n",
    "    return x ** 2\n",
    "```\n",
    "This is `inline` code. No syntax highlighting here.\n",
    "</pre>\n",
    "\n",
    "**Result:**\n",
    "```python\n",
    "def square(x):\n",
    "    return x ** 2\n",
    "```\n",
    "This is `inline` code. No syntax highlighting here."
   ]
  },
  {
   "cell_type": "markdown",
   "id": "00f325c8-d827-4229-8fd8-0940867d6b43",
   "metadata": {},
   "source": [
    "**Now it's your turn to have some Markdown fun.** In the next cell, try out some of the commands. You can just throw in some things, or do something more structured (like a small notebook)."
   ]
  },
  {
   "cell_type": "markdown",
   "id": "e121fd7a-0443-493a-9985-75b5b2eee501",
   "metadata": {},
   "source": [
    "<p style=\"color: #d9534f\">Write some Markdown here.</p>\n",
    "\n",
    "# Breed Of Cats\n",
    "## Autor: Valerie Todorov\n",
    "### Abstract:\n",
    "This is a short information about some cat breeds, colected from internet.\n",
    "\n",
    "## 1. Maine Coon\n",
    "The Maine Coon is a large domesticated cat breed. It is one of the oldest natural breeds in North America.\n",
    "The breed originated in the U.S. state of Maine, where it is the official state cat.\n",
    "\n",
    "![Maine Coon](https://upload.wikimedia.org/wikipedia/commons/5/5a/Maine_Coon_cat_by_Tomitheos.JPG) *__Maine Coon__*\n",
    "\n",
    "### 1.1. History\n",
    "The __Maine Coon__ is one of the largest domesticated cats. It has a distinctive physical appearance and valuable hunting skills.\n",
    "The breed was popular in cat shows in the late 19th century, but its existence became threatened when long-haired breeds from overseas were introduced in the early 20th century.\n",
    "The Maine Coon has since made a comeback, in 2020 becoming the third most popular pedigree cat breed in the world.\n",
    "\n",
    "#### 1.1.1. Origin\n",
    "Maine Coon cats originated in Maine. However, their lineage is surrounded by mystery, folk tales, and myths.\n",
    "\n",
    "#### 1.1.2. Myths\n",
    "One myth claims the Maine Coon cat is a hybrid with another animal species, such as the raccoon or bobcat.\n",
    "The second myth states the cats are descendants of Viking ship's cats, known today as the Norwegian Forest cats. \n",
    "A third story involves Marie Antoinette, the Queen of France who was executed in 1793. The story goes that before her death, Antoinette attempted to escape France with the help of Captain Samuel Clough. \n",
    "She loaded Clough's ship with her most prized possessions, including six of her favorite Turkish Angora or possibly Siberian cats. \n",
    "Although she did not make it to the United States, all of her pets managed to reach the shore of Wiscasset, Maine, safely, where they bred with other short-haired breeds and developed into the modern breed of the Maine Coon\n",
    "\n",
    "#### 1.1.3. Science\n",
    "These myths and theories have long speculated that the long-haired Maine Coon cat has to be related to other long-haired breeds, due to their similarities in phenotype. \n",
    "And for the Maine Coon in particular, that it is descended from the Norwegian or Siberian Forest cat, brought to New England by settlers or Vikings. However, phylogenetic studies showed that the Maine Coon belongs to the Western European monophyletic cat branch, but forms the closest relationship with the random-bred cat population in the Northeastern US (New York region). \n",
    "This Western European branch also contains the Norwegian and Siberian Forest cat, but they fall under a different sub-branch. \n",
    "The Maine Coons are descendants of cats brought to New England by Puritan settlers in the 1600-1700s, and out of the European cats they are genetically closest to cats found in the United Kingdom. \n",
    "It is not relatedness that makes them look similar to the Norwegian and Siberian Forest cats, but convergent evolution. These breeds all formed in harsh climates in which natural selection pressures for similar qualities. \n",
    "Thick, long coats, toe and ear tufts, big bodies, and snowshoe-like big feet, are useful traits in all the harsh climates where these breeds originate from.\n",
    "\n",
    "### 1.2. Description\n",
    "\n",
    "#### 1.2.1. Fur coat\n",
    "The __Maine Coon__ is a long or medium-haired cat. The coat is soft and silky, although texture may vary with coat color.\n",
    "The length is shorter on the head and shoulders and longer on the stomach and flanks, with some cats having a leonine ruff around their neck. Minimal grooming is required for the breed compared to other long-haired breeds, as their double coat is mostly self-maintaining owing to a light-density undercoat.\n",
    "The coat is subject to seasonal variation, with the fur being thicker in the winter and thinner during the summer.\n",
    "\n",
    "#### 1.2.2. Coat colors\n",
    "_Maine Coons_ can have any colors that other cats have. Colors indicating crossbreeding, such as chocolate, lavender, the Siamese pointed patterns or the \\\"ticked\\\" patterns, are not accepted by some breed standards. This is not universal; the ticked pattern, for example, is accepted by TICA and CFA.\n",
    "The most common pattern seen in the breed is brown tabby. All eye colors are accepted under breed standards, with the exception of blue or odd-eyes, i.e. heterochromia iridium (two eyes of different colors), in cats possessing coat colors other than white.\n",
    "\n",
    "#### 1.2.3. Size\n",
    "11-month-old cream tabby male kitten being held at cat sh.ow\n",
    "The Maine Coon was considered the largest breed of domestic cat until the introduction of the Savannah cat in the mid 1980s, and is still the largest non-hybrid cat.\n",
    "On average, males weigh from 18 to 22 lb (8.2 to 10.0 kg), with females weighing from 12 to 15 lb (5.4 to 6.8).\n",
    "The height of adults can vary between 10 and 16 in (25 and 41 cm) and they can reach a length of up to 38 in (97 cm), including the tail, which can reach a length of 14 in 36 and is long, tapering, and heavily furred, almost resembling a raccoon's ta. \n",
    "The body is solid and muscular, which is necessary for supporting their weight, and the chest is bod. \n",
    "Maine Coons possess a rectangular body shape and are slow to physically mature; their full size is normally not reached until they are three to five years old, while other cats take about one year   \n",
    "    \n",
    "## 2. Bengal cat\n",
    "The Bengal cat is a breed of hybrid cat created from crossing of an Asian leopard cat (Prionailurus bengalensis), with domestic cats, especially the spotted Egyptian Mau. \n",
    "It is then usually bred with a breed that demonstrates a friendlier personality, because after breeding a domesticated cat with a wildcat, its friendly personality may not manifest in the kitten. \n",
    "The breed's name derives from the leopard cat's taxonomic name.\n",
    "Bengals have a wild appearance; their golden shimmer comes from their leopard cat ancestry, and their coats may show spots, rosettes, arrowhead markings, or marbling. \n",
    "They are an energetic breed that needs much exercise and play\n",
    "    \n",
    "### 2.1. History\n",
    "#### 2.1.1. Early history\n",
    "The earliest mention of an Asian leopard cat × domestic cross was in 1889, when Harrison Weir wrote of them in Our Cats and All About Them.\n",
    "#### 2.1.2. Bengals as a breedy    \n",
    "Jean Mill of California is given credit for the modern Bengal breed. She made the first known deliberate cross of an Asian leopard cat with a domestic cat (a black California tomcat). Bengals as a breed did not really begin in earnest until much later.\n",
    "\n",
    "##### 2.1.2.1. Cat registries\n",
    "In 1986, the breed was accepted as a \\\"new breed\\\" by The International Cat Association; Bengals gained TICA championship status in 1991. The Governing Council of the Cat Fancy (GCCF) accepted Bengal cats in 1997. Fédération Internationale Féline (FIFe) in 1999 accepted the breed into their registry.[6] Also in 1999, Bengals were accepted into the Australian Cat Federation (ACF). The Cat Fanciers' Association accepted the Bengal in CFA's \\\"Miscellaneous\\\" in 2016, under the restrictions that \\\"it must be F6 or later (6 generations removed from the Asian leopard cat or non-Bengal domestic cat ancestors).\n",
    "\n",
    "##### 2.1.2.2. Early generations\n",
    "Bengal cats from the first three generations of breeding (F1, G2, and G3) are considered \\\"foundation\\\" or \\\"early-generation\\\" Bengals.\n",
    "The early-generation males are frequently infertile. Therefore, female early-generation Bengals are bred to fertile domestic Bengal males of later generations.\n",
    "Nevertheless, as the term was used incorrectly for many years, many people and breeders still refer to the cats as F2, F3, and F4, even though the term is considered incorrect.\n",
    "\n",
    "##### 2.1.2.3. Popularity\n",
    "The Bengal breed was more fully developed by the 1980s. \\\"In 1992 The International Cat Association had 125 registered Bengal Breeders. \n",
    "By the 2000s, Bengals had become a very popular breed. In 2019, there were nearly 2,500 Bengal breeders registered in TICA worldwide.\n",
    "        \n",
    "### 2.2. Appearance\n",
    "#### 2.2.1. Markings\n",
    "##### 2.2.1.1. Colors\n",
    "    \n",
    "Bengals come in a variety of coat colors  The International Cat Association (TICA) recognizes several Bengal colors: brown spotted, seal lynx point (snow), sepia, silver, and mink spotted tabby.\n",
    "\n",
    "##### 2.2.1.2. Spotted rosetted\n",
    "The Bengal cat is the only domestic breed of cat that has rosette markings. People most often associate the Bengal with the most popular color: the brown spotted/rosetted Bengal. Nonetheless, Bengals have a wide variety of markings and colors. Even within the Brown spotted/rosetted category a Bengal can be: red, brown, black, ticked, grey, spotted, rosetted, clouded. Many people are stunned by the Bengal Cat's resemblance to a leopard. Among domestic cats, the Bengal markings are perhaps the most varied and unique.\n",
    "\n",
    "#### 2.2.1.3. Marble\n",
    "Domestic cats have four distinct and heritable coat patterns – ticked, mackerel, blotched, and spotted – these are collectively referred to as tabby markings.\n",
    "Christopher Kaelin, a Stanford University geneticist, has conducted research that has been used to identify the spotted gene and the marble gene in domestic Bengal cats.\n",
    "Kaelin studied the color and pattern variations of feral cats in Northern California, and was able to identify the gene responsible for the marble pattern in Bengal cats.\n",
    "    \n",
    "##### 2.2.1.3. Legal restrictions\n",
    "- In Australia, G5 (fifth-generation) Bengals are not restricted, but their import is complex\n",
    "- Bengals were regulated in the United Kingdom. In 2007, however, the Department for Environment, Food and Rural Affairs removed the previous licensing requiremen\n",
    "* In the United States, legal restrictions and even bans sometimes exist at the state and municipal level. \n",
    "    - In Hawaii, Bengal cats are prohibited by law (as are all wild cat species, and all other hybrids of domestic and wild animals. \n",
    "    - In Connecticut, it is also illegal to own any generation of Bengal cat.\n",
    "    - In Alaska, Bengal cats must be four generations removed from the Asian leopard cat. A permit and registered pedigree that indicates the previous four generations are required.\n",
    "    - In California, the code of regulations Title 14, section K, Asian leopards are not specifically listed as a restricted species. \n",
    "    - In Delaware, a permit is required to own Bengal cats.\n",
    "    - Bengals of the F1-G4 generations are also regulated in New York state, Georgia, Massachusetts, and Indana. - Various cities have imposed restrictions; in New York City, Bengals are prohib][25] and there are limits on Bengal ownership in Seattle, Washington, and in Denver, Colorado.\n",
    "\n",
    "Except where noted above, Bengal cats with a generation of G5 and beyond are considered domestic, and are generally legal in the US.\n",
    "    \n",
    "[inforamtion source for bengal cats](https://en.wikipedia.org/wiki/Bengal_cat)\n",
    "\n",
    "| Derived breeds (mostly experimental) | Hybrid cat varieties involving other species: |\n",
    "| ------- | ------- |\n",
    "| 1. Bramble cat | 1. Chausie |\n",
    "| 2. Genetta cat | 2. Kellas cat |\n",
    "| 3. Highlander cat | 3. Savannah cat |\n",
    "| 4. Jungle Curl |\n",
    "| 5. Mojave Spotted |\n",
    "| 6. Pantherette |\n",
    "| 7. Punjabi cat |\n",
    "| 8. Serengeti cat |\n",
    "| 9. Toyger |\n",
    "\n",
    "## another table of cats:\n",
    "| Breed | location if origin| Type | Body type | Coat type and length | Coat pattern |\n",
    "|-------|-------|-------|-------|-------|-------|\n",
    "| Abyssinian |\tUnspecified, but somewhere in Afro-Asia, likely Ethiopia | Natural | Semi-foreign | Short | Ticked tabby |\n",
    "| Aegean | Greece | Natural\t| Moderate | Semi-long | Multi-color |\n",
    "| Bambino | United States | Crossbreed between the Munchkin and Sphynx | Dwarf | Short | Black + white hairless\t|\n",
    "| Bengal | Developed in United States, but created in Asia\t| Hybrid of the Abyssinian and Egyptian Mau × leopard cat (Prionailurus bengalensis) | Large | Short | Spotted, marbled, or rosetted |\t\n",
    "| Birman | Developed in France; foundation stock from Burma (Myanmar) |\tThe original Birman was crossed with the Siamese and the Persian to create the Birman of today.\t| Cobby\t| Semi-long\t| Mitted colorpoint |\n",
    "| Bombay | United States and Burma (Myanmar) | Crossbreed between the Black American Shorthair and Sable Burmese | Cobby | Short | Solid black |\n",
    "| Neva Masquerade (colorpoint Siberian) | Russia | Crossbreed between the Siberian and a colorpoint cat | Cobby\t| Long | Colorpoint\t|\n",
    "| Norwegian Forest Cat |\tNorway | Natural\t| Cobby\t| Long\t| Chocolate or orange and white bicolor |\n",
    "| Ocicat | United States | Crossbreed between the Abyssinian, American Shorthair and Siamese | Large | Short | Spotted tabby |\n"
   ]
  },
  {
   "cell_type": "markdown",
   "id": "98ce584f-57e7-4e96-881e-8807a7e37140",
   "metadata": {},
   "source": [
    "### Problem 2. Formulas and LaTeX\n",
    "Writing math formulas has always been hard. But scientists don't like difficulties and prefer standards. So, thanks to Donald Knuth (a very popular computer scientist, who also invented a lot of algorithms), we have a nice typesetting system, called LaTeX (pronounced _lah_-tek). We'll be using it mostly for math formulas, but it has a lot of other things to offer.\n",
    "\n",
    "There are two main ways to write formulas. You could enclose them in single `$` signs like this: `$ ax + b $`, which will create an **inline formula**: $ ax + b $. You can also enclose them in double `$` signs `$$ ax + b $$` to produce $$ ax + b $$\n",
    "\n",
    "Most commands start with a backslash and accept parameters either in square brackets `[]` or in curly braces `{}`. For example, to make a fraction, you typically would write `$$ \\frac{a}{b} $$`: $$ \\frac{a}{b} $$\n",
    "\n",
    "[Here's a resource](http://www.stat.pitt.edu/stoffer/freetex/latex%20basics.pdf) where you can look up the basics of the math syntax. You can also search StackOverflow - there are all sorts of solutions there.\n",
    "\n",
    "You're on your own now. Research and recreate all formulas shown in the next cell. Try to make your cell look exactly the same as mine. It's an image, so don't try to cheat by copy/pasting :D.\n",
    "\n",
    "Note that you **do not** need to understand the formulas, what's written there or what it means. We'll have fun with these later in the course.\n",
    "\n",
    "![Math formulas and equations](math.jpg)"
   ]
  },
  {
   "cell_type": "markdown",
   "id": "31d8e79f-c280-4d62-99c6-27a55245323e",
   "metadata": {},
   "source": [
    "<p style=\"color: #d9534f\">Second problem formulas are here.</p>\n",
    "\n",
    "Equation of a line:  $ \\quad \\qquad \\ \\ \\ \\ \\ y = ax + b $ \n",
    "\n",
    "Roots of the quadratic equation  $ ax^2 + bx + c = 0 $:  $$ x_{1,2} = \\frac{ -b \\pm \\sqrt{b^2 - 4ac}}{2a} $$\n",
    "Taylor series expansion: $$ f(x)\\left|\\right._{x=a} = f(a) + f'(a)(x-a) + \\frac{f^n(a)}{2!}(x-a)^2 + \\dots + \\frac{f^{(n)}(a)}{n!}(x-a)^n + \\dots $$\n",
    "Binominal theorem: $$ (x + y)^n = \\binom{n}{0}x^ny^0 + \\binom{n}{1}x^{n-1}y^1 + \\dots + \\binom{n}{n}x^{0}y^n = \\sum_{k = 0}^{n}\\binom{n}{k}x^{n-k}y^k $$\n",
    "An integral: $$ \\int_{-\\infty}^{+\\infty} {e^{-x}}^2\\text{d}x = \\sqrt{\\pi}$$\n",
    "A short matrix:\n",
    "\\begin{pmatrix}\n",
    "2 & 1 & 3\\\\\n",
    "2 & 6 & 8\\\\\n",
    "6 & 8 & 18\\\\\n",
    "\\end{pmatrix}\t\n",
    "\n",
    "A long matrix:\n",
    "\\begin{equation}\n",
    "A = \n",
    "\\begin{pmatrix}\n",
    "a_{11} & a_{12} & \\dots  & a_{1n} \\\\\n",
    "a_{21} & a_{22} & \\dots  & a_{2n} \\\\\n",
    "\\vdots & \\vdots & \\vdots & \\vdots \\\\\n",
    "a_{m1} & a_{m2} & \\dots  & a_{mn}\n",
    "\\end{pmatrix}\t\n",
    "\n",
    "\\end{equation}\n",
    "\n"
   ]
  },
  {
   "cell_type": "markdown",
   "id": "bbdc87dc-b549-4928-ae4c-e3d4c6260c69",
   "metadata": {
    "tags": []
   },
   "source": [
    "### Problem 3. Solving equations with Python\n",
    "Let's first do some symbolic computation. We need to import `sympy` first. \n",
    "\n",
    "**Should your imports be in a single cell at the top or should they appear as they are used?** There's not a single valid best practice. Most people seem to prefer imports at the top of the file though. **Note: If you write new code in a cell, you have to re-execute it!**\n",
    "\n",
    "Let's use `sympy` to give us a quick symbolic solution to our equation. First import `sympy` (you can use the second cell in this notebook): \n",
    "```python \n",
    "import sympy \n",
    "```\n",
    "\n",
    "Next, create symbols for all variables and parameters. You may prefer to do this in one pass or separately:\n",
    "```python \n",
    "x = sympy.symbols('x')\n",
    "a, b, c = sympy.symbols('a b c')\n",
    "```\n",
    "\n",
    "Now solve:\n",
    "```python \n",
    "sympy.solve(a * x**2 + b * x + c)\n",
    "```"
   ]
  },
  {
   "cell_type": "code",
   "execution_count": 10,
   "id": "b165a1ac-2fd7-4125-940d-1b7d3e44c36c",
   "metadata": {},
   "outputs": [],
   "source": [
    "# Write your code here"
   ]
  },
  {
   "cell_type": "code",
   "execution_count": 11,
   "id": "c481c3e4-c82c-4eb8-b495-4b94eba8c23c",
   "metadata": {
    "tags": []
   },
   "outputs": [],
   "source": [
    "x = sympy.symbols('x')\n",
    "a, b, c = sympy.symbols('a b c')"
   ]
  },
  {
   "cell_type": "code",
   "execution_count": 12,
   "id": "ef7357ce-563e-4800-a75d-344491f19ca1",
   "metadata": {
    "tags": []
   },
   "outputs": [
    {
     "data": {
      "text/plain": [
       "[(-b - sqrt(-4*a*c + b**2))/(2*a), (-b + sqrt(-4*a*c + b**2))/(2*a)]"
      ]
     },
     "execution_count": 12,
     "metadata": {},
     "output_type": "execute_result"
    }
   ],
   "source": [
    "sympy.solve(a * x**2 + b * x + c, x)"
   ]
  },
  {
   "cell_type": "markdown",
   "id": "47bc58e0-4067-4e33-9e0a-35ba944878af",
   "metadata": {},
   "source": [
    "Hmmmm... we didn't expect that :(. We got an expression for $a$ because the library tried to solve for the first symbol it saw. This is an equation and we have to solve for $x$. We can provide it as a second parameter:\n",
    "```python \n",
    "sympy.solve(a * x**2 + b * x + c, x)\n",
    "```\n",
    "\n",
    "Finally, if we start with `sympy.init_printing()`, we'll get a LaTeX-formatted result instead of a typed one. This is very useful because it produces better-looking formulas. **Note:** This means we have to add the line BEFORE we start working with `sympy`."
   ]
  },
  {
   "cell_type": "code",
   "execution_count": 14,
   "id": "bc0858ee-b198-46d4-8c6b-e875d5d0b9be",
   "metadata": {},
   "outputs": [],
   "source": [
    "sympy.init_printing()"
   ]
  },
  {
   "cell_type": "code",
   "execution_count": 15,
   "id": "941f7bb4-ab21-4b7b-ab9a-7b95c7c5d5bc",
   "metadata": {},
   "outputs": [
    {
     "data": {
      "image/png": "[encoded data removed]",
      "text/latex": [
       "$\\displaystyle \\left[ \\frac{- b - \\sqrt{- 4 a c + b^{2}}}{2 a}, \\  \\frac{- b + \\sqrt{- 4 a c + b^{2}}}{2 a}\\right]$"
      ],
      "text/plain": [
       "⎡        _____________          _____________⎤\n",
       "⎢       ╱           2          ╱           2 ⎥\n",
       "⎢-b - ╲╱  -4⋅a⋅c + b    -b + ╲╱  -4⋅a⋅c + b  ⎥\n",
       "⎢─────────────────────, ─────────────────────⎥\n",
       "⎣         2⋅a                    2⋅a         ⎦"
      ]
     },
     "execution_count": 15,
     "metadata": {},
     "output_type": "execute_result"
    }
   ],
   "source": [
    "# Write your code here\n",
    "sympy.solve(a * x**2 + b * x + c, x)"
   ]
  },
  {
   "cell_type": "markdown",
   "id": "f366e586-f407-4031-90d5-5a57f13ae500",
   "metadata": {},
   "source": [
    "How about a function that takes $a, b, c$ (assume they are real numbers, you don't need to do additional checks on them) and returns the **real** roots of the quadratic equation?\n",
    "\n",
    "Remember that in order to calculate the roots, we first need to see whether the expression under the square root sign is non-negative.\n",
    "\n",
    "If $b^2 - 4ac > 0$, the equation has two real roots: $x_1, x_2$\n",
    "\n",
    "If $b^2 - 4ac = 0$, the equation has one real root: $x_1 = x_2$\n",
    "\n",
    "If $b^2 - 4ac < 0$, the equation has zero real roots\n",
    "\n",
    "Write a function which returns the roots. In the first case, return a list of 2 numbers: `[2, 3]`. In the second case, return a list of only one number: `[2]`. In the third case, return an empty list: `[]`."
   ]
  },
  {
   "cell_type": "code",
   "execution_count": 71,
   "id": "c3416582-4411-4120-b31e-37ca2089d564",
   "metadata": {
    "tags": []
   },
   "outputs": [],
   "source": [
    "def solve_linear_equation(a, b):\n",
    "    return [] if a == 0 else [-b / a]"
   ]
  },
  {
   "cell_type": "code",
   "execution_count": 73,
   "id": "849d39a7-850e-42c8-9716-da8af7526953",
   "metadata": {},
   "outputs": [],
   "source": [
    "def solve_quadratic_equation(a, b, c):\n",
    "    \"\"\"\n",
    "    Returns the real solutions of the quadratic equation ax^2 + bx + c = 0\n",
    "    \"\"\"\n",
    "    if a == 0:\n",
    "        return solve_linear_equation(b, c)\n",
    "    \n",
    "    D = b ** 2 - 4 * a * c\n",
    "    if D > 0:\n",
    "        return [(-b - math.sqrt(D))/(2*a), (-b + math.sqrt(D))/(2*a)]\n",
    "    elif D == 0:\n",
    "        return [-b/(2*a)]\n",
    "    else:\n",
    "        return[]"
   ]
  },
  {
   "cell_type": "code",
   "execution_count": 75,
   "id": "f4e1989d-01ad-4c17-90c9-8209b2656b25",
   "metadata": {},
   "outputs": [
    {
     "name": "stdout",
     "output_type": "stream",
     "text": [
      "[-1.0, 2.0]\n",
      "[4.0]\n",
      "[]\n",
      "[-1.0]\n",
      "[]\n",
      "[-2.0]\n",
      "[-0.5]\n"
     ]
    }
   ],
   "source": [
    "# Testing: Execute this cell. The outputs should match the expected outputs. Feel free to write more tests\n",
    "print(solve_quadratic_equation(1, -1, -2)) # [-1.0, 2.0]\n",
    "print(solve_quadratic_equation(1, -8, 16)) # [4.0]\n",
    "print(solve_quadratic_equation(1, 1, 1)) # []\n",
    "print(solve_quadratic_equation(0, 1, 1)) # [-1]\n",
    "print(solve_quadratic_equation(0, 0, 1)) # []\n",
    "print(solve_quadratic_equation(0, 3, 6)) # [-2]\n",
    "print(solve_quadratic_equation(0, 8, 4)) # [-0.5]"
   ]
  },
  {
   "cell_type": "markdown",
   "id": "982c5bd6-9793-4806-9730-8eb51f92aa92",
   "metadata": {},
   "source": [
    "**Bonus:** Last time we saw how to solve a linear equation. Remember that linear equations are just like quadratic equations with $a = 0$. In this case, however, division by 0 will throw an error. Extend your function above to support solving linear equations (in the same way we did it last time).\n",
    "\n",
    "**Bonus 2:** Actually, every quadratic equation (with a non-zero leading term $a$) has exactly two solutions. Find out what they are, why there are two of them, and how to compute them. If you've followed the steps outlined above, _you should add a single letter_ somewhere in your code to always obtain the two solutions to the quadratic equation."
   ]
  },
  {
   "cell_type": "markdown",
   "id": "055d653c-97d8-4757-b0ee-379d1ad273f6",
   "metadata": {},
   "source": [
    "### * Problem 4. Getting started with `math`\n",
    "This one is for your enjoyment and practice, rather than a very strict assignment. Note that you'll see some problems like this.\n",
    "\n",
    "We just saw the `math` library. `import`s are a very import-ant ;) part of Python, as they allow us to reuse someone else's computations.\n",
    "\n",
    "Try out the \"trinity\" of functions: power ($x^y$), square root ($\\sqrt{x}$) and logarithms ($\\log_a(x)$) using the `math` library. In the next problems, you'll be graphing equations, so you will be able to see what the plots of these functions look like.\n",
    "\n",
    "Some questions to think about:\n",
    "* What are the _domain_ and _codomain_ of each function?\n",
    "* How does $\\sqrt{x}$ relate to $x^2$? Are there any restrictions on $x$? Are there any differences between what you'd expect in the math and what Python returns?\n",
    "* There's a native `pow()` function in Python. How does it compare to `math.pow()`?\n",
    "* How do we represent logarithms in an arbitrary base?\n",
    "* Actually, can we check (or even prove) some properties of logarihtms using Python? Look [here](https://www.cuemath.com/algebra/properties-of-logarithms/) for a refresher."
   ]
  },
  {
   "cell_type": "code",
   "execution_count": 11,
   "id": "1a878f1c-2d65-4dc8-b945-3e627d856578",
   "metadata": {},
   "outputs": [
    {
     "name": "stdout",
     "output_type": "stream",
     "text": [
      "5.000000000000001\n",
      "False\n",
      "32\n",
      "32.0\n"
     ]
    },
    {
     "data": {
      "text/plain": [
       "5.0"
      ]
     },
     "execution_count": 11,
     "metadata": {},
     "output_type": "execute_result"
    }
   ],
   "source": [
    "# Write your code here. Of course, you may add more cells if needed.\n",
    "print ((math.sqrt(5)) ** 2)\n",
    "print (0.1 + 0.2 == 0.3)\n",
    "print(pow(2,5))\n",
    "print(math.pow(2,5))\n",
    "math.log(32,2)"
   ]
  },
  {
   "cell_type": "markdown",
   "id": "ade51c74-dd21-4c1f-ae58-5222b489431d",
   "metadata": {},
   "source": [
    "### Problem 5. Equation of a Line\n",
    "Let's go back to our linear equations and systems. There are many ways to define what \"linear\" means, but they all boil down to the same thing.\n",
    "\n",
    "The equation $ax + b = 0$ is called *linear* because the function $f(x) = ax+b$ is a linear function. We know that there are several ways to know what one particular function means. One of them is to just write the expression for it, as we did above. Another way is to **plot** it. This is one of the most exciting parts of maths and science - when we have to fiddle around with beautiful plots (although not so beautiful in this case).\n",
    "\n",
    "The function produces a straight line and we can see it.\n",
    "\n",
    "How do we plot functions in general? We know that functions take many (possibly infinitely many) inputs. We can't draw all of them. We could, however, evaluate the function at some points and connect them with tiny straight lines. If the points are too many, we won't notice - the plot will look smooth.\n",
    "\n",
    "Now, let's take a function, e.g. $y = 2x + 3$ and plot it. For this, we're going to use `numpy` arrays. This is a special type of array which has two characteristics:\n",
    "* All elements in it must be of the same type\n",
    "* All operations are **broadcast**: if `x = [1, 2, 3, 10]` and we write `2 * x`, we'll get `[2, 4, 6, 20]`. That is, all operations are performed at all indices. This is very powerful, easy to use and saves us A LOT of looping.\n",
    "\n",
    "There's one more thing: it's blazingly fast because all computations are done in C, instead of Python.\n",
    "\n",
    "First let's import `numpy`. Since the name is a bit long, a common convention is to give it an **alias**:\n",
    "```python\n",
    "import numpy as np\n",
    "```\n",
    "\n",
    "Import that at the top cell and don't forget to re-run it.\n",
    "\n",
    "Next, let's create a range of values, e.g. $[-3, 5]$. There are two ways to do this. `np.arange(start, stop, step)` will give us evenly spaced numbers with a given step, while `np.linspace(start, stop, num)` will give us `num` samples. You see, one uses a fixed step, the other uses a number of points to return. When plotting functions, we usually use the latter. Let's generate, say, 1000 points (we know a straight line only needs two but we're generalizing the concept of plotting here :)).\n",
    "```python\n",
    "x = np.linspace(-3, 5, 1000)\n",
    "```\n",
    "Now, let's generate our function variable\n",
    "```python\n",
    "y = 2 * x + 3\n",
    "```\n",
    "\n",
    "We can print the values if we like but we're more interested in plotting them. To do this, first let's import a plotting library. `matplotlib` is the most commnly used one and we usually give it an alias as well.\n",
    "```python\n",
    "import matplotlib.pyplot as plt\n",
    "```\n",
    "\n",
    "Now, let's plot the values. To do this, we just call the `plot()` function. Notice that the top-most part of this notebook contains a \"magic string\": `%matplotlib inline`. This hints Jupyter to display all plots inside the notebook. However, it's a good practice to call `show()` after our plot is ready.\n",
    "```python\n",
    "plt.plot(x, y)\n",
    "plt.show()\n",
    "```"
   ]
  },
  {
   "cell_type": "code",
   "execution_count": 37,
   "id": "90bc9266-91e5-4009-b24d-19cb29174ff3",
   "metadata": {},
   "outputs": [
    {
     "data": {
      "image/png": "[encoded data removed]",
      "text/plain": [
       "<Figure size 640x480 with 1 Axes>"
      ]
     },
     "metadata": {},
     "output_type": "display_data"
    }
   ],
   "source": [
    "# Write your code here\n",
    "x = np.linspace(-3, 5, 1000)\n",
    "y = 2 * x + 3\n",
    "plt.plot(x, y)\n",
    "plt.show()"
   ]
  },
  {
   "cell_type": "code",
   "execution_count": 61,
   "id": "9ed8dc68-d5ac-4e12-b742-f45bc333b6bf",
   "metadata": {
    "tags": []
   },
   "outputs": [
    {
     "data": {
      "image/png": "[encoded data removed]",
      "text/plain": [
       "<Figure size 640x480 with 1 Axes>"
      ]
     },
     "metadata": {},
     "output_type": "display_data"
    }
   ],
   "source": [
    "x = np.linspace(-20, 20, 1000)\n",
    "y = np.sin(x)\n",
    "plt.plot(x, y, c = \"g\", lw = 5, linestyle = \"dotted\")\n",
    "x = np.linspace(-20, 20, 1000)\n",
    "y =  0.25 * x + 0.1\n",
    "plt.plot(x, y,c = \"r\", lw = 3)\n",
    "plt.show()"
   ]
  },
  {
   "cell_type": "markdown",
   "id": "f1570103-dae9-4b0b-a7a9-ceb963388e00",
   "metadata": {},
   "source": [
    "It doesn't look too bad bit we can do much better. See how the axes don't look like they should? Let's move them to zero. This can be done using the \"spines\" of the plot (i.e. the borders).\n",
    "\n",
    "All `matplotlib` figures can have many plots (subfigures) inside them. That's why when performing an operation, we have to specify a target figure. There is a default one and we can get it by using `plt.gca()`. We usually call it `ax` for \"axis\".\n",
    "Let's save it in a variable (in order to prevent multiple calculations and to make code prettier). Let's now move the bottom and left spines to the origin $(0, 0)$ and hide the top and right one.\n",
    "```python\n",
    "ax = plt.gca()\n",
    "ax.spines[\"bottom\"].set_position(\"zero\")\n",
    "ax.spines[\"left\"].set_position(\"zero\")\n",
    "ax.spines[\"top\"].set_visible(False)\n",
    "ax.spines[\"right\"].set_visible(False)\n",
    "```\n",
    "\n",
    "**Note:** All plot manipulations HAVE TO be done before calling `show()`. It's up to you whether they should be before or after the function you're plotting.\n",
    "\n",
    "This should look better now. We can, of course, do much better (e.g. remove the double 0 at the origin and replace it with a single one), but this is left as an exercise for the reader :)."
   ]
  },
  {
   "cell_type": "code",
   "execution_count": null,
   "id": "815b0f38-64f0-4e98-962e-ade8854ec1f5",
   "metadata": {},
   "outputs": [],
   "source": [
    "# Copy and edit your code here"
   ]
  },
  {
   "cell_type": "markdown",
   "id": "e6f94bcf-02fa-46a8-be0f-ee79f4fe3db6",
   "metadata": {},
   "source": [
    "### * Problem 6. Linearizing Functions\n",
    "Why is the line equation so useful? The main reason is because it's so easy to work with. Scientists actually try their best to linearize functions, that is, to make linear functions from non-linear ones. There are several ways of doing this. One of them involves derivatives and we'll talk about it later in the course. \n",
    "\n",
    "A commonly used method for linearizing functions is through algebraic transformations. Try to linearize \n",
    "$$ y = ae^{bx} $$\n",
    "\n",
    "Hint: The inverse operation of $e^{x}$ is $\\ln(x)$. Start by taking $\\ln$ of both sides and see what you can do. Your goal is to transform the function into another, linear function. You can look up more hints on the Internet :)."
   ]
  },
  {
   "cell_type": "markdown",
   "id": "f0009bc7-ab6d-43d6-88ff-a26ebdf4827d",
   "metadata": {},
   "source": [
    "<p style=\"color: #d9534f\">Write your result here.</p>"
   ]
  },
  {
   "cell_type": "markdown",
   "id": "88a4dea7-6dd3-4594-ba5a-93352bc7fa1c",
   "metadata": {},
   "source": [
    "### * Problem 7. Generalizing the Plotting Function\n",
    "Let's now use the power of Python to generalize the code we created to plot. In Python, you can pass functions as parameters to other functions. We'll utilize this to pass the math function that we're going to plot.\n",
    "\n",
    "Note: We can also pass *lambda expressions* (anonymous functions) like this: \n",
    "```python\n",
    "lambda x: x + 2```\n",
    "This is a shorter way to write\n",
    "```python\n",
    "def some_anonymous_function(x):\n",
    "    return x + 2\n",
    "```\n",
    "\n",
    "We'll also need a range of x values. We may also provide other optional parameters which will help set up our plot. These may include titles, legends, colors, fonts, etc. Let's stick to the basics now.\n",
    "\n",
    "Write a Python function which takes another function, x range and number of points, and plots the function graph by evaluating it at every point.\n",
    "\n",
    "**BIG hint:** If you want to use not only `numpy` functions for `f` but any one function, a very useful (and easy) thing to do, is to vectorize the function `f` (e.g. to allow it to be used with `numpy` broadcasting):\n",
    "```python\n",
    "f_vectorized = np.vectorize(f)\n",
    "y = f_vectorized(x)\n",
    "```"
   ]
  },
  {
   "cell_type": "code",
   "execution_count": null,
   "id": "7dcdae7b-96bf-47fa-9ef7-1401d5be652b",
   "metadata": {},
   "outputs": [],
   "source": [
    "def plot_math_function(f, min_x, max_x, num_points):\n",
    "    # Write your code here\n",
    "    pass"
   ]
  },
  {
   "cell_type": "code",
   "execution_count": null,
   "id": "9a420422-26da-4592-b7ab-d99895138f16",
   "metadata": {},
   "outputs": [],
   "source": [
    "plot_math_function(lambda x: 2 * x + 3, -3, 5, 1000)\n",
    "plot_math_function(lambda x: -x + 8, -1, 10, 1000)\n",
    "plot_math_function(lambda x: x**2 - x - 2, -3, 4, 1000)\n",
    "plot_math_function(lambda x: np.sin(x), -np.pi, np.pi, 1000)\n",
    "plot_math_function(lambda x: np.sin(x) / x, -4 * np.pi, 4 * np.pi, 1000)"
   ]
  },
  {
   "cell_type": "markdown",
   "id": "36cb2af6-780c-4c7e-87ea-ba771f3f79eb",
   "metadata": {},
   "source": [
    "### * Problem 8. Solving Equations Graphically\n",
    "Now that we have a general plotting function, we can use it for more interesting things. Sometimes we don't need to know what the exact solution is, just to see where it lies. We can do this by plotting the two functions around the \"=\" sign ans seeing where they intersect. Take, for example, the equation $2x + 3 = 0$. The two functions are $f(x) = 2x + 3$ and $g(x) = 0$. Since they should be equal, the point of their intersection is the solution of the given equation. We don't need to bother marking the point of intersection right now, just showing the functions.\n",
    "\n",
    "To do this, we'll need to improve our plotting function yet once. This time we'll need to take multiple functions and plot them all on the same graph. Note that we still need to provide the $[x_{min}; x_{max}]$ range and it's going to be the same for all functions.\n",
    "\n",
    "```python\n",
    "vectorized_fs = [np.vectorize(f) for f in functions]\n",
    "ys = [vectorized_f(x) for vectorized_f in vectorized_fs]\n",
    "```"
   ]
  },
  {
   "cell_type": "code",
   "execution_count": null,
   "id": "fdcfb549-2bc0-4f9c-913c-733d24cf6a50",
   "metadata": {},
   "outputs": [],
   "source": [
    "def plot_math_functions(functions, min_x, max_x, num_points):\n",
    "    # Write your code here\n",
    "    pass"
   ]
  },
  {
   "cell_type": "code",
   "execution_count": null,
   "id": "f6aecaf4-be8e-4e54-9ac4-c0ee23f94904",
   "metadata": {},
   "outputs": [],
   "source": [
    "plot_math_functions([lambda x: 2 * x + 3, lambda x: 0], -3, 5, 1000)\n",
    "plot_math_functions([lambda x: 3 * x**2 - 2 * x + 5, lambda x: 3 * x + 7], -2, 3, 1000)"
   ]
  },
  {
   "cell_type": "markdown",
   "id": "29b15bd7-94da-4d9b-b3fd-14360b396310",
   "metadata": {},
   "source": [
    "This is also a way to plot the solutions of systems of equation, like the one we solved last time. Let's actually try it."
   ]
  },
  {
   "cell_type": "code",
   "execution_count": null,
   "id": "c1e7e947-3e84-4305-8578-737c3c5f04ed",
   "metadata": {},
   "outputs": [],
   "source": [
    "plot_math_functions([lambda x: (-4 * x + 7) / 3, lambda x: (-3 * x + 8) / 5, lambda x: (-x - 1) / -2], -1, 4, 1000)"
   ]
  },
  {
   "cell_type": "markdown",
   "id": "cc268677-b138-46a2-b03d-db04d5bdd437",
   "metadata": {},
   "source": [
    "### Problem 9. Trigonometric Functions\n",
    "We already saw the graph of the function $y = \\sin(x)$. But then again, how do we define the trigonometric functions? Let's quickly review that.\n",
    "\n",
    "![Right triangle](angle-in-right-triangle.png)\n",
    "\n",
    "The two basic trigonometric functions are defined as the ratio of two sides:\n",
    "$$ \\sin(x) = \\frac{\\text{opposite}}{\\text{hypotenuse}} $$\n",
    "$$ \\cos(x) = \\frac{\\text{adjacent}}{\\text{hypotenuse}} $$\n",
    "\n",
    "And also:\n",
    "$$ \\tan(x) = \\frac{\\text{opposite}}{\\text{adjacent}} = \\frac{\\sin(x)}{\\cos(x)} $$\n",
    "$$ \\cot(x) = \\frac{\\text{adjacent}}{\\text{opposite}} = \\frac{\\cos(x)}{\\sin(x)} $$\n",
    "\n",
    "This is fine, but using this, \"right-triangle\" definition, we're able to calculate the trigonometric functions of angles up to $90^\\circ$. But we can do better. Let's now imagine a circle centered at the origin of the coordinate system, with radius $r = 1$. This is called a \"unit circle\".\n",
    "\n",
    "![Trigonometric unit circle](triangle-unit-circle.png)\n",
    "\n",
    "We can now see exactly the same picture. The $x$-coordinate of the point in the circle corresponds to $\\cos(\\alpha)$ and the $y$-coordinate - to $\\sin(\\alpha)$. What did we get? We're now able to define the trigonometric functions for all degrees up to $360^\\circ$. After that, the same values repeat: these functions are **periodic**: \n",
    "$$ \\sin(k.360^\\circ + \\alpha) = \\sin(\\alpha), k = 0, 1, 2, \\dots $$\n",
    "$$ \\cos(k.360^\\circ + \\alpha) = \\cos(\\alpha), k = 0, 1, 2, \\dots $$\n",
    "\n",
    "We can, of course, use this picture to derive other identities, such as:\n",
    "$$ \\sin(90^\\circ + \\alpha) = \\cos(\\alpha) $$\n",
    "\n",
    "A very important property of the sine and cosine is that they accept values in the range $(-\\infty; \\infty)$ and produce values in the range $[-1; 1]$. The two other functions take values in the range $(-\\infty; \\infty)$ **except when their denominators are zero** and produce values in the same range. \n",
    "\n",
    "#### Radians\n",
    "A degree is a geometric object, $1/360$th of a full circle. This is quite inconvenient when we work with angles. There is another, natural and intrinsic measure of angles. It's called the **radian** and can be written as $\\text{rad}$ or without any designation, so $\\sin(2)$ means \"sine of two radians\".\n",
    "\n",
    "![Radian definition](radian.gif)\n",
    "\n",
    "It's defined as *the central angle of an arc with length equal to the circle's radius* and $1\\text{rad} \\approx 57.296^\\circ$.\n",
    "\n",
    "We know that the circle circumference is $C = 2\\pi r$, therefore we can fit exactly $2\\pi$ arcs with length $r$ in $C$. The angle corresponding to this is $360^\\circ$ or $2\\pi\\ \\text{rad}$. Also, $\\pi \\text{rad} = 180^\\circ$.\n",
    "\n",
    "(Some people prefer using $\\tau = 2\\pi$ to avoid confusion with always multiplying by 2 or 0.5 but we'll use the standard notation here.)\n",
    "\n",
    "**NOTE:** All trigonometric functions in `math` and `numpy` accept radians as arguments. In order to convert between radians and degrees, you can use the relations $\\text{[deg]} = 180/\\pi.\\text{[rad]}, \\text{[rad]} =  \\pi/180.\\text{[deg]}$. This can be done using `np.deg2rad()` and `np.rad2deg()` respectively.\n",
    "\n",
    "#### Inverse trigonometric functions\n",
    "All trigonometric functions have their inverses. If you plug in, say $\\pi/4$ in the $\\sin(x)$ function, you get $\\sqrt{2}/2$. The inverse functions (also called, arc-functions) take arguments in the interval $[-1; 1]$ and return the angle that they correspond to. Take arcsine for example:\n",
    "$$ \\arcsin(y) = x: sin(x) = y $$\n",
    "$$ \\arcsin\\left(\\frac{\\sqrt{2}}{2}\\right) = \\frac{\\pi}{4} $$\n",
    "\n",
    "Please note that this is NOT entirely correct. From the relations we found:\n",
    "$$\\sin(x) = sin(2k\\pi + x), k = 0, 1, 2, \\dots $$\n",
    "\n",
    "it follows that $\\arcsin(x)$ has infinitely many values, separated by $2k\\pi$ radians each:\n",
    "$$ \\arcsin\\left(\\frac{\\sqrt{2}}{2}\\right) = \\frac{\\pi}{4} + 2k\\pi, k = 0, 1, 2, \\dots $$\n",
    "\n",
    "In most cases, however, we're interested in the first value (when $k = 0$). It's called the **principal value**.\n",
    "\n",
    "Note 1: There are inverse functions for all four basic trigonometric functions: $\\arcsin$, $\\arccos$, $\\arctan$, $\\text{arccot}$. These are sometimes written as $\\sin^{-1}(x)$, $\\cos^{-1}(x)$, etc. These definitions are completely equivalent. \n",
    "\n",
    "Just notice the difference between $\\sin^{-1}(x) := \\arcsin(x)$ and $\\sin(x^{-1}) = \\sin(1/x)$."
   ]
  },
  {
   "cell_type": "markdown",
   "id": "9d4a1a6e-1550-4a43-8494-2fa6b1975956",
   "metadata": {},
   "source": [
    "#### Exercise\n",
    "Use the plotting function you wrote above to plot the inverse trigonometric functions. Use `numpy` (look up how to use inverse trigonometric functions)."
   ]
  },
  {
   "cell_type": "code",
   "execution_count": null,
   "id": "fcc3fed4-6ef9-472a-856b-ae3fe6b4ee56",
   "metadata": {},
   "outputs": [],
   "source": [
    "# Write your code here"
   ]
  },
  {
   "cell_type": "markdown",
   "id": "833fe0b7-27dd-409e-9f1a-17c3dc0b0ae0",
   "metadata": {},
   "source": [
    "### * Problem 10. Perlin Noise\n",
    "This algorithm has many applications in computer graphics and can serve to demonstrate several things... and help us learn about math, algorithms and Python :).\n",
    "#### Noise\n",
    "Noise is just random values. We can generate noise by just calling a random generator. Note that these are actually called *pseudorandom generators*. We'll talk about this later in this course.\n",
    "We can generate noise in however many dimensions we want. For example, if we want to generate a single dimension, we just pick N random values and call it a day. If we want to generate a 2D noise space, we can take an approach which is similar to what we already did with `np.meshgrid()`.\n",
    "\n",
    "$$ \\text{noise}(x, y) = N, N \\in [n_{min}, n_{max}] $$\n",
    "\n",
    "This function takes two coordinates and returns a single number N between $n_{min}$ and $n_{max}$. (This is what we call a \"scalar field\").\n",
    "\n",
    "Random variables are always connected to **distributions**. We'll talk about these a great deal but now let's just say that these define what our noise will look like. In the most basic case, we can have \"uniform noise\" - that is, each point in our little noise space $[n_{min}, n_{max}]$ will have an equal chance (probability) of being selected.\n",
    "\n",
    "#### Perlin noise\n",
    "There are many more distributions but right now we'll want to have a look at a particular one. **Perlin noise** is a kind of noise which looks smooth. It looks cool, especially if it's colored. The output may be tweaked to look like clouds, fire, etc. 3D Perlin noise is most widely used to generate random terrain.\n",
    "\n",
    "#### Algorithm\n",
    "... Now you're on your own :). Research how the algorithm is implemented (note that this will require that you understand some other basic concepts like vectors and gradients).\n",
    "\n",
    "#### Your task\n",
    "1. Research about the problem. See what articles, papers, Python notebooks, demos, etc. other people have created\n",
    "2. Create a new notebook and document your findings. Include any assumptions, models, formulas, etc. that you're using\n",
    "3. Implement the algorithm. Try not to copy others' work, rather try to do it on your own using the model you've created\n",
    "4. Test and improve the algorithm\n",
    "5. (Optional) Create a cool demo :), e.g. using Perlin noise to simulate clouds. You can even do an animation (hint: you'll need gradients not only in space but also in time)\n",
    "6. Communicate the results\n",
    "\n",
    "Hint: [This](http://flafla2.github.io/2014/08/09/perlinnoise.html) is a very good resource. It can show you both how to organize your notebook (which is important) and how to implement the algorithm."
   ]
  }
 ],
 "metadata": {
  "kernelspec": {
   "display_name": "Python 3 (ipykernel)",
   "language": "python",
   "name": "python3"
  },
  "language_info": {
   "codemirror_mode": {
    "name": "ipython",
    "version": 3
   },
   "file_extension": ".py",
   "mimetype": "text/x-python",
   "name": "python",
   "nbconvert_exporter": "python",
   "pygments_lexer": "ipython3",
   "version": "3.11.7"
  }
 },
 "nbformat": 4,
 "nbformat_minor": 5
}
