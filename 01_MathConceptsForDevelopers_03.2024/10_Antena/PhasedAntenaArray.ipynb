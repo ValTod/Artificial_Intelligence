{
 "cells": [
  {
   "cell_type": "code",
   "execution_count": null,
   "id": "2fbbb56b-da23-491b-aafd-a4d039f956dc",
   "metadata": {},
   "outputs": [],
   "source": [
    "Phas"
   ]
  }
 ],
 "metadata": {
  "kernelspec": {
   "display_name": "",
   "name": ""
  },
  "language_info": {
   "name": ""
  }
 },
 "nbformat": 4,
 "nbformat_minor": 5
}
