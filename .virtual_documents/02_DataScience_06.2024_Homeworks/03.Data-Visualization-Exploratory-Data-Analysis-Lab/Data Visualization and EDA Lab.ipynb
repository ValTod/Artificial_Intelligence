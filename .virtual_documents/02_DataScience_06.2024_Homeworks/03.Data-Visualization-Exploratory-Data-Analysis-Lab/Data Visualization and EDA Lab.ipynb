import pandas as pd
import numpy as np
import io
import seaborn as sns

import matplotlib.pyplot as plt











spotify = pd.read_csv('data/spotify_most_streamed_2024.zip', encoding='unicode_escape')





spotify


spotify.dtypes


new_spotify = spotify.drop(['TIDAL Popularity', 'Explicit Track'], axis=1)
new_spotify.head() # 1-st rows only!


# Dictionary to map current column names to snake_case
snake_case = {col: col.strip().lower().replace('.','').replace(' ', '_') for col in new_spotify.columns}

# Rename columns using the mapping
new_spotify = new_spotify.rename(columns=snake_case)

new_spotify.columns





new_spotify.info()




































