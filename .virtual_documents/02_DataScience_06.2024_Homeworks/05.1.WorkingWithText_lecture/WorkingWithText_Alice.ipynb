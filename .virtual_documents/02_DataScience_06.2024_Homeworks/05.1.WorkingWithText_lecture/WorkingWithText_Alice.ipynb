import numpy as np
import pandas as pd
import matplotlib.pyplot as plt

from collections import Counter





alice = pd.read_csv("data/alice.txt", sep="\t", engine='python', on_bad_lines='skip') 
alice


eu_restaurants = pd.read_csv("data/European Restaurant Reviews.csv" , header = None)
eu_restaurants.columns = ["country", "restaurant_name", "sentiment", "review_title", "review_date", "review"] 
eu_restaurants


eu_restaurants.describe


eu_restaurants.info


# info about column Country
eu_restaurants.country.info()


# unique restaurants 
eu_restaurants.country.nunique()


with open("data/European Restaurant Reviews.csv", "r", encoding='utf-8') as file:
    print(file.read()[:3443])


# r - read 
# rb - read bytes

with open("data/alice.txt", "rb") as file:
    print(file.read()[:1535])


# use after "r" , encoding='utf-8' if cant read utf-8 symbols
with open("data/alice.txt", "r", encoding='utf-8') as file:
    print(file.read()[:100])


eu_restaurants.columns


eu_restaurants.review


eu_restaurants.review_date





eu_restaurants.review.str.len().sort_values(ascending = False)


#средна дължина на текста
eu_restaurants.review.str.len().mean()


# медианната дължина на текста
eu_restaurants.review.str.len().median()





for sentiment, group_data in eu_restaurants.groupby('sentiment'):
    print(group_data)
    break


for sentiment, group_data in eu_restaurants.groupby('sentiment'):
    print(group_data.shape)
    break


for sentiment, group_data in eu_restaurants.groupby('sentiment'):
    print(group_data.dtypes)
    break


for sentiment, group_data in eu_restaurants.groupby('sentiment'):
    print(sentiment, group_data.restaurant_name.str.len().median())





text= ""
with open("data/alice.txt", "r", encoding='utf-8') as f:
    text = f.read()
print(len(text))





alice.loc[0]


eu_restaurants.loc[0].review





eu_restaurants.loc[1].review











Counter(eu_restaurants.loc[1].review)


# закоментирам, защото изкарва много редове
# Counter(eu_restaurants.review.ravel())


eu_restaurants.review.to_numpy()





all_texts = " ".join(eu_restaurants.review.to_numpy())
# all_texts












