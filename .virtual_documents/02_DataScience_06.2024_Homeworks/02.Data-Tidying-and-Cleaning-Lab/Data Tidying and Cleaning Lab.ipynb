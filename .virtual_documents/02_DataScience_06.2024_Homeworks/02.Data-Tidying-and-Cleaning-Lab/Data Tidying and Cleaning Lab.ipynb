import pandas as pd
import numpy as np
import io
import seaborn as sns
import matplotlib.pyplot as plt











coffee_set = pd.read_csv('data/merged_data_cleaned.csv', encoding='unicode_escape')


coffee_set





coffee_set.shape


coffee_set.dtypes


num_features = coffee_set.select_dtypes(include=['number']).columns.tolist()
num_features


len(num_features)


category_features = coffee_set.select_dtypes(include=['object']).columns.tolist()
category_features


len(category_features)





coffee_set.columns





def columns_to_snake_case(column_name):
    column_name = column_name.strip().replace(" ", "_").lower()
    column_name = column_name.strip().replace(".", "_").lower()
    column_name = column_name.strip().replace(":", "").lower()
    return column_name





converted_column_names = [columns_to_snake_case(col) for col in coffee_set.columns]
coffee_set.columns = converted_column_names
coffee_set.columns











coffee_set["bag_weight"].unique()





def convert_to_kg(weight):
    return float(weight) * 0.453592

for idx, col in enumerate(coffee_set["bag_weight"]):
    full_weight = col.split()
    
    if len(full_weight) == 2:
        measure, name = full_weight
        if name.lower() != 'kg':
            convert_measure = convert_to_kg(measure)
            full_weight[0] = f"{convert_measure:.2f}"  
            full_weight[1] = 'kg'
            coffee_set.at[idx, 'bag_weight'] = " ".join(full_weight)





coffee_set["bag_weight"].unique()










































