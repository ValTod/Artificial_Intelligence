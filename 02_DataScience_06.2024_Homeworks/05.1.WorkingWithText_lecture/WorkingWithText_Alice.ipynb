{
 "cells": [
  {
   "cell_type": "code",
   "execution_count": 1,
   "id": "4012b7a0-9d69-47c0-885d-847a43625363",
   "metadata": {},
   "outputs": [
    {
     "name": "stderr",
     "output_type": "stream",
     "text": [
      "[nltk_data] Downloading package stopwords to\n",
      "[nltk_data]     C:\\Users\\Val\\AppData\\Roaming\\nltk_data...\n",
      "[nltk_data]   Package stopwords is already up-to-date!\n"
     ]
    }
   ],
   "source": [
    "import numpy as np\n",
    "import pandas as pd\n",
    "import matplotlib.pyplot as plt\n",
    "\n",
    "from collections import Counter\n",
    "\n",
    "import nltk\n",
    "nltk.download(\"stopwords\")\n",
    "from nltk.corpus import stopwords"
   ]
  },
  {
   "cell_type": "markdown",
   "id": "02c42b9a-0743-4471-8031-61cf2b3772ea",
   "metadata": {},
   "source": [
    "# Working with text \n",
    "## exercise from lecture "
   ]
  },
  {
   "cell_type": "code",
   "execution_count": 2,
   "id": "cc8d8ccb-44b4-4baa-ab72-c094b52712f0",
   "metadata": {},
   "outputs": [
    {
     "data": {
      "text/html": [
       "<div>\n",
       "<style scoped>\n",
       "    .dataframe tbody tr th:only-of-type {\n",
       "        vertical-align: middle;\n",
       "    }\n",
       "\n",
       "    .dataframe tbody tr th {\n",
       "        vertical-align: top;\n",
       "    }\n",
       "\n",
       "    .dataframe thead th {\n",
       "        text-align: right;\n",
       "    }\n",
       "</style>\n",
       "<table border=\"1\" class=\"dataframe\">\n",
       "  <thead>\n",
       "    <tr style=\"text-align: right;\">\n",
       "      <th></th>\n",
       "      <th>Project Gutenberg's Alice's Adventures in Wonderland, by Lewis Carroll</th>\n",
       "    </tr>\n",
       "  </thead>\n",
       "  <tbody>\n",
       "    <tr>\n",
       "      <th>0</th>\n",
       "      <td>This eBook is for the use of anyone anywhere a...</td>\n",
       "    </tr>\n",
       "    <tr>\n",
       "      <th>1</th>\n",
       "      <td>almost no restrictions whatsoever.  You may co...</td>\n",
       "    </tr>\n",
       "    <tr>\n",
       "      <th>2</th>\n",
       "      <td>re-use it under the terms of the Project Guten...</td>\n",
       "    </tr>\n",
       "    <tr>\n",
       "      <th>3</th>\n",
       "      <td>with this eBook or online at www.gutenberg.org</td>\n",
       "    </tr>\n",
       "    <tr>\n",
       "      <th>4</th>\n",
       "      <td>Title: Alice's Adventures in Wonderland</td>\n",
       "    </tr>\n",
       "    <tr>\n",
       "      <th>...</th>\n",
       "      <td>...</td>\n",
       "    </tr>\n",
       "    <tr>\n",
       "      <th>1274</th>\n",
       "      <td>http://www.gutenberg.org</td>\n",
       "    </tr>\n",
       "    <tr>\n",
       "      <th>1275</th>\n",
       "      <td>This Web site includes information about Proje...</td>\n",
       "    </tr>\n",
       "    <tr>\n",
       "      <th>1276</th>\n",
       "      <td>including how to make donations to the Project...</td>\n",
       "    </tr>\n",
       "    <tr>\n",
       "      <th>1277</th>\n",
       "      <td>Archive Foundation, how to help produce our ne...</td>\n",
       "    </tr>\n",
       "    <tr>\n",
       "      <th>1278</th>\n",
       "      <td>subscribe to our email newsletter to hear abou...</td>\n",
       "    </tr>\n",
       "  </tbody>\n",
       "</table>\n",
       "<p>1279 rows × 1 columns</p>\n",
       "</div>"
      ],
      "text/plain": [
       "     Project Gutenberg's Alice's Adventures in Wonderland, by Lewis Carroll\n",
       "0     This eBook is for the use of anyone anywhere a...                    \n",
       "1     almost no restrictions whatsoever.  You may co...                    \n",
       "2     re-use it under the terms of the Project Guten...                    \n",
       "3        with this eBook or online at www.gutenberg.org                    \n",
       "4               Title: Alice's Adventures in Wonderland                    \n",
       "...                                                 ...                    \n",
       "1274                           http://www.gutenberg.org                    \n",
       "1275  This Web site includes information about Proje...                    \n",
       "1276  including how to make donations to the Project...                    \n",
       "1277  Archive Foundation, how to help produce our ne...                    \n",
       "1278  subscribe to our email newsletter to hear abou...                    \n",
       "\n",
       "[1279 rows x 1 columns]"
      ]
     },
     "execution_count": 2,
     "metadata": {},
     "output_type": "execute_result"
    }
   ],
   "source": [
    "alice = pd.read_csv(\"data/alice.txt\", sep=\"\\t\", engine='python', on_bad_lines='skip') \n",
    "alice"
   ]
  },
  {
   "cell_type": "code",
   "execution_count": 3,
   "id": "57624af0-02fd-4c1d-8a3f-882bfb10f40d",
   "metadata": {},
   "outputs": [
    {
     "data": {
      "text/html": [
       "<div>\n",
       "<style scoped>\n",
       "    .dataframe tbody tr th:only-of-type {\n",
       "        vertical-align: middle;\n",
       "    }\n",
       "\n",
       "    .dataframe tbody tr th {\n",
       "        vertical-align: top;\n",
       "    }\n",
       "\n",
       "    .dataframe thead th {\n",
       "        text-align: right;\n",
       "    }\n",
       "</style>\n",
       "<table border=\"1\" class=\"dataframe\">\n",
       "  <thead>\n",
       "    <tr style=\"text-align: right;\">\n",
       "      <th></th>\n",
       "      <th>country</th>\n",
       "      <th>restaurant_name</th>\n",
       "      <th>sentiment</th>\n",
       "      <th>review_title</th>\n",
       "      <th>review_date</th>\n",
       "      <th>review</th>\n",
       "    </tr>\n",
       "  </thead>\n",
       "  <tbody>\n",
       "    <tr>\n",
       "      <th>0</th>\n",
       "      <td>Country</td>\n",
       "      <td>Restaurant Name</td>\n",
       "      <td>Sentiment</td>\n",
       "      <td>Review Title</td>\n",
       "      <td>Review Date</td>\n",
       "      <td>Review</td>\n",
       "    </tr>\n",
       "    <tr>\n",
       "      <th>1</th>\n",
       "      <td>France</td>\n",
       "      <td>The Frog at Bercy Village</td>\n",
       "      <td>Negative</td>\n",
       "      <td>Rude manager</td>\n",
       "      <td>May 2024 •</td>\n",
       "      <td>The manager became agressive when I said the c...</td>\n",
       "    </tr>\n",
       "    <tr>\n",
       "      <th>2</th>\n",
       "      <td>France</td>\n",
       "      <td>The Frog at Bercy Village</td>\n",
       "      <td>Negative</td>\n",
       "      <td>A big disappointment</td>\n",
       "      <td>Feb 2024 •</td>\n",
       "      <td>I ordered a beef fillet ask to be done medium,...</td>\n",
       "    </tr>\n",
       "    <tr>\n",
       "      <th>3</th>\n",
       "      <td>France</td>\n",
       "      <td>The Frog at Bercy Village</td>\n",
       "      <td>Negative</td>\n",
       "      <td>Pretty Place with Bland Food</td>\n",
       "      <td>Nov 2023 •</td>\n",
       "      <td>This is an attractive venue with welcoming, al...</td>\n",
       "    </tr>\n",
       "    <tr>\n",
       "      <th>4</th>\n",
       "      <td>France</td>\n",
       "      <td>The Frog at Bercy Village</td>\n",
       "      <td>Negative</td>\n",
       "      <td>Great service and wine but inedible food</td>\n",
       "      <td>Mar 2023 •</td>\n",
       "      <td>Sadly I  used the high TripAdvisor rating too ...</td>\n",
       "    </tr>\n",
       "    <tr>\n",
       "      <th>...</th>\n",
       "      <td>...</td>\n",
       "      <td>...</td>\n",
       "      <td>...</td>\n",
       "      <td>...</td>\n",
       "      <td>...</td>\n",
       "      <td>...</td>\n",
       "    </tr>\n",
       "    <tr>\n",
       "      <th>1498</th>\n",
       "      <td>Cuba</td>\n",
       "      <td>Old Square (Plaza Vieja)</td>\n",
       "      <td>Negative</td>\n",
       "      <td>The Tourism Trap</td>\n",
       "      <td>Oct 2016 •</td>\n",
       "      <td>Despite the other reviews saying that this is ...</td>\n",
       "    </tr>\n",
       "    <tr>\n",
       "      <th>1499</th>\n",
       "      <td>Cuba</td>\n",
       "      <td>Old Square (Plaza Vieja)</td>\n",
       "      <td>Negative</td>\n",
       "      <td>the beer factory</td>\n",
       "      <td>Oct 2016 •</td>\n",
       "      <td>beer is good.  food is awfull  The only decent...</td>\n",
       "    </tr>\n",
       "    <tr>\n",
       "      <th>1500</th>\n",
       "      <td>Cuba</td>\n",
       "      <td>Old Square (Plaza Vieja)</td>\n",
       "      <td>Negative</td>\n",
       "      <td>brewery</td>\n",
       "      <td>Oct 2016 •</td>\n",
       "      <td>for terrible service of a truly comedic level,...</td>\n",
       "    </tr>\n",
       "    <tr>\n",
       "      <th>1501</th>\n",
       "      <td>Cuba</td>\n",
       "      <td>Old Square (Plaza Vieja)</td>\n",
       "      <td>Negative</td>\n",
       "      <td>It's nothing exciting over there</td>\n",
       "      <td>Oct 2016 •</td>\n",
       "      <td>We visited the Havana's Club Museum which is l...</td>\n",
       "    </tr>\n",
       "    <tr>\n",
       "      <th>1502</th>\n",
       "      <td>Cuba</td>\n",
       "      <td>Old Square (Plaza Vieja)</td>\n",
       "      <td>Negative</td>\n",
       "      <td>Tourist Trap</td>\n",
       "      <td>Oct 2016 •</td>\n",
       "      <td>Food and service was awful. Very pretty stop. ...</td>\n",
       "    </tr>\n",
       "  </tbody>\n",
       "</table>\n",
       "<p>1503 rows × 6 columns</p>\n",
       "</div>"
      ],
      "text/plain": [
       "      country            restaurant_name  sentiment  \\\n",
       "0     Country            Restaurant Name  Sentiment   \n",
       "1      France  The Frog at Bercy Village   Negative   \n",
       "2      France  The Frog at Bercy Village   Negative   \n",
       "3      France  The Frog at Bercy Village   Negative   \n",
       "4      France  The Frog at Bercy Village   Negative   \n",
       "...       ...                        ...        ...   \n",
       "1498     Cuba   Old Square (Plaza Vieja)   Negative   \n",
       "1499     Cuba   Old Square (Plaza Vieja)   Negative   \n",
       "1500     Cuba   Old Square (Plaza Vieja)   Negative   \n",
       "1501     Cuba   Old Square (Plaza Vieja)   Negative   \n",
       "1502     Cuba   Old Square (Plaza Vieja)   Negative   \n",
       "\n",
       "                                  review_title  review_date  \\\n",
       "0                                 Review Title  Review Date   \n",
       "1                                 Rude manager   May 2024 •   \n",
       "2                         A big disappointment   Feb 2024 •   \n",
       "3                 Pretty Place with Bland Food   Nov 2023 •   \n",
       "4     Great service and wine but inedible food   Mar 2023 •   \n",
       "...                                        ...          ...   \n",
       "1498                          The Tourism Trap   Oct 2016 •   \n",
       "1499                          the beer factory   Oct 2016 •   \n",
       "1500                                   brewery   Oct 2016 •   \n",
       "1501          It's nothing exciting over there   Oct 2016 •   \n",
       "1502                              Tourist Trap   Oct 2016 •   \n",
       "\n",
       "                                                 review  \n",
       "0                                                Review  \n",
       "1     The manager became agressive when I said the c...  \n",
       "2     I ordered a beef fillet ask to be done medium,...  \n",
       "3     This is an attractive venue with welcoming, al...  \n",
       "4     Sadly I  used the high TripAdvisor rating too ...  \n",
       "...                                                 ...  \n",
       "1498  Despite the other reviews saying that this is ...  \n",
       "1499  beer is good.  food is awfull  The only decent...  \n",
       "1500  for terrible service of a truly comedic level,...  \n",
       "1501  We visited the Havana's Club Museum which is l...  \n",
       "1502  Food and service was awful. Very pretty stop. ...  \n",
       "\n",
       "[1503 rows x 6 columns]"
      ]
     },
     "execution_count": 3,
     "metadata": {},
     "output_type": "execute_result"
    }
   ],
   "source": [
    "eu_restaurants = pd.read_csv(\"data/European Restaurant Reviews.csv\" , header = None)\n",
    "eu_restaurants.columns = [\"country\", \"restaurant_name\", \"sentiment\", \"review_title\", \"review_date\", \"review\"] \n",
    "eu_restaurants"
   ]
  },
  {
   "cell_type": "code",
   "execution_count": 4,
   "id": "32ebf879-ebdd-4c41-81e3-d8dd13f49a8b",
   "metadata": {},
   "outputs": [
    {
     "data": {
      "text/plain": [
       "<bound method NDFrame.describe of       country            restaurant_name  sentiment  \\\n",
       "0     Country            Restaurant Name  Sentiment   \n",
       "1      France  The Frog at Bercy Village   Negative   \n",
       "2      France  The Frog at Bercy Village   Negative   \n",
       "3      France  The Frog at Bercy Village   Negative   \n",
       "4      France  The Frog at Bercy Village   Negative   \n",
       "...       ...                        ...        ...   \n",
       "1498     Cuba   Old Square (Plaza Vieja)   Negative   \n",
       "1499     Cuba   Old Square (Plaza Vieja)   Negative   \n",
       "1500     Cuba   Old Square (Plaza Vieja)   Negative   \n",
       "1501     Cuba   Old Square (Plaza Vieja)   Negative   \n",
       "1502     Cuba   Old Square (Plaza Vieja)   Negative   \n",
       "\n",
       "                                  review_title  review_date  \\\n",
       "0                                 Review Title  Review Date   \n",
       "1                                 Rude manager   May 2024 •   \n",
       "2                         A big disappointment   Feb 2024 •   \n",
       "3                 Pretty Place with Bland Food   Nov 2023 •   \n",
       "4     Great service and wine but inedible food   Mar 2023 •   \n",
       "...                                        ...          ...   \n",
       "1498                          The Tourism Trap   Oct 2016 •   \n",
       "1499                          the beer factory   Oct 2016 •   \n",
       "1500                                   brewery   Oct 2016 •   \n",
       "1501          It's nothing exciting over there   Oct 2016 •   \n",
       "1502                              Tourist Trap   Oct 2016 •   \n",
       "\n",
       "                                                 review  \n",
       "0                                                Review  \n",
       "1     The manager became agressive when I said the c...  \n",
       "2     I ordered a beef fillet ask to be done medium,...  \n",
       "3     This is an attractive venue with welcoming, al...  \n",
       "4     Sadly I  used the high TripAdvisor rating too ...  \n",
       "...                                                 ...  \n",
       "1498  Despite the other reviews saying that this is ...  \n",
       "1499  beer is good.  food is awfull  The only decent...  \n",
       "1500  for terrible service of a truly comedic level,...  \n",
       "1501  We visited the Havana's Club Museum which is l...  \n",
       "1502  Food and service was awful. Very pretty stop. ...  \n",
       "\n",
       "[1503 rows x 6 columns]>"
      ]
     },
     "execution_count": 4,
     "metadata": {},
     "output_type": "execute_result"
    }
   ],
   "source": [
    "eu_restaurants.describe"
   ]
  },
  {
   "cell_type": "code",
   "execution_count": 5,
   "id": "e41c5e7c-df01-43cb-8bfe-2eeecc89a0cd",
   "metadata": {},
   "outputs": [
    {
     "data": {
      "text/plain": [
       "<bound method DataFrame.info of       country            restaurant_name  sentiment  \\\n",
       "0     Country            Restaurant Name  Sentiment   \n",
       "1      France  The Frog at Bercy Village   Negative   \n",
       "2      France  The Frog at Bercy Village   Negative   \n",
       "3      France  The Frog at Bercy Village   Negative   \n",
       "4      France  The Frog at Bercy Village   Negative   \n",
       "...       ...                        ...        ...   \n",
       "1498     Cuba   Old Square (Plaza Vieja)   Negative   \n",
       "1499     Cuba   Old Square (Plaza Vieja)   Negative   \n",
       "1500     Cuba   Old Square (Plaza Vieja)   Negative   \n",
       "1501     Cuba   Old Square (Plaza Vieja)   Negative   \n",
       "1502     Cuba   Old Square (Plaza Vieja)   Negative   \n",
       "\n",
       "                                  review_title  review_date  \\\n",
       "0                                 Review Title  Review Date   \n",
       "1                                 Rude manager   May 2024 •   \n",
       "2                         A big disappointment   Feb 2024 •   \n",
       "3                 Pretty Place with Bland Food   Nov 2023 •   \n",
       "4     Great service and wine but inedible food   Mar 2023 •   \n",
       "...                                        ...          ...   \n",
       "1498                          The Tourism Trap   Oct 2016 •   \n",
       "1499                          the beer factory   Oct 2016 •   \n",
       "1500                                   brewery   Oct 2016 •   \n",
       "1501          It's nothing exciting over there   Oct 2016 •   \n",
       "1502                              Tourist Trap   Oct 2016 •   \n",
       "\n",
       "                                                 review  \n",
       "0                                                Review  \n",
       "1     The manager became agressive when I said the c...  \n",
       "2     I ordered a beef fillet ask to be done medium,...  \n",
       "3     This is an attractive venue with welcoming, al...  \n",
       "4     Sadly I  used the high TripAdvisor rating too ...  \n",
       "...                                                 ...  \n",
       "1498  Despite the other reviews saying that this is ...  \n",
       "1499  beer is good.  food is awfull  The only decent...  \n",
       "1500  for terrible service of a truly comedic level,...  \n",
       "1501  We visited the Havana's Club Museum which is l...  \n",
       "1502  Food and service was awful. Very pretty stop. ...  \n",
       "\n",
       "[1503 rows x 6 columns]>"
      ]
     },
     "execution_count": 5,
     "metadata": {},
     "output_type": "execute_result"
    }
   ],
   "source": [
    "eu_restaurants.info"
   ]
  },
  {
   "cell_type": "code",
   "execution_count": 6,
   "id": "5e1b4a4d-04c5-405a-b1b6-b271304d5d42",
   "metadata": {
    "scrolled": true
   },
   "outputs": [
    {
     "name": "stdout",
     "output_type": "stream",
     "text": [
      "<class 'pandas.core.series.Series'>\n",
      "RangeIndex: 1503 entries, 0 to 1502\n",
      "Series name: country\n",
      "Non-Null Count  Dtype \n",
      "--------------  ----- \n",
      "1503 non-null   object\n",
      "dtypes: object(1)\n",
      "memory usage: 11.9+ KB\n"
     ]
    }
   ],
   "source": [
    "# info about column Country\n",
    "eu_restaurants.country.info()"
   ]
  },
  {
   "cell_type": "code",
   "execution_count": 7,
   "id": "1c4a54b0-9dcd-446b-aaaf-11e81854d986",
   "metadata": {},
   "outputs": [
    {
     "data": {
      "text/plain": [
       "8"
      ]
     },
     "execution_count": 7,
     "metadata": {},
     "output_type": "execute_result"
    }
   ],
   "source": [
    "# unique restaurants \n",
    "eu_restaurants.country.nunique()"
   ]
  },
  {
   "cell_type": "code",
   "execution_count": 8,
   "id": "0769d57e-c73d-45ab-9469-a3392e644837",
   "metadata": {},
   "outputs": [
    {
     "name": "stdout",
     "output_type": "stream",
     "text": [
      "Country,Restaurant Name,Sentiment,Review Title,Review Date,Review\n",
      "France,The Frog at Bercy Village,Negative,Rude manager,May 2024 •,The manager became agressive when I said the carbonara was not good. She was rude. It was  a very bad experience. The worst in Rome in many years.\n",
      "France,The Frog at Bercy Village,Negative,A big disappointment,Feb 2024 •,\"I ordered a beef fillet ask to be done medium, I got it well done cooked and very dry, when I told them they took the steak and after 20 minutes they brought me another steak that was completely rare, I left all the steak , and they asked me about it but charged me the fool price.\"\n",
      "France,The Frog at Bercy Village,Negative,Pretty Place with Bland Food,Nov 2023 •,\"This is an attractive venue with welcoming, albeit but somewhat slow service. The offerings are pleasingly presented but most everything has no taste. It was as though ingredients were just assembled without seasoning: a lovely restaurant, except for the food.\"\n",
      "France,The Frog at Bercy Village,Negative,Great service and wine but inedible food,Mar 2023 •,\"Sadly I  used the high TripAdvisor rating too literally. We have been fortunate to eat at a number of fine restaurants so  know that amazing buzz from  a mouthful of fine freshly cooked food from a great chef.\n",
      "Never before have we eaten a tasting menu and never will we again.\n",
      "Ad Hoc has a great ambience with attentive friendly service and all the paired wines were exceptional.\n",
      "Maybe we hit a night when the chef was off but every single course of food was certainly not freshly cooked and , as we passed the kitchen on the way to the bathroom, noticed plates of  precooked food ready to go on the tasting menu plates. If it had been the odd dish that disappointed, we would have accepted that it might have just been our palates not liking it. As it was every plate of food was not hot, bland, lacking any spark and had probably been sitting around for a while.l\n",
      "All the serving staff were great as was the wine but I failed to finish any plate offered. \n",
      "The tasting menu looked good value but a simple bowl of hot freshly cooked pasta would have done better justice to the wine.\n",
      "When asked ,I admitted , with that great English understatement, that I had been disappointed. I found 17 euros had been deducted from the 190 euro bill so it was nice that they noticed.\n",
      "Probably best to avoid the tasting menus and enjoy their great wine selection with some pasta and maybe cheese course.\n",
      "\n",
      "I feel responsible that I made a poor choice not realizing that this is a place geared for tourists. \n",
      "An expensive mistake.\"\n",
      "France,The Frog at Bercy Village,Negative,Avoid- Worst meal in Rome - possibly ever,Nov 2022 •,\"From the start this meal was bad- especially given the price. We visited for my husbands birthday after being recommended by our local hotel. The lady in charge appeared at our table as we arrived to basically up-sell the truffle menu. Plonked some truffles on the table and then with no explanation of how they would enhance the dishes gave us a rehearsed speech which she proceeded to repeat word for word at every single table. If the food had been good we could have forgiven this but it wasn’t. The best parts were the bland bits as at least they were inoffensive - nothing was seasoned and sauces were completely tasteless with strange and weird combinations. But the worst part of the meal was my husbands inedible medallions of ‘lamb’ dish. This w\n"
     ]
    }
   ],
   "source": [
    "with open(\"data/European Restaurant Reviews.csv\", \"r\", encoding='utf-8') as file:\n",
    "    print(file.read()[:3443])"
   ]
  },
  {
   "cell_type": "code",
   "execution_count": 9,
   "id": "10fe2159-8cc7-4bc7-8249-2331703bb1bb",
   "metadata": {},
   "outputs": [
    {
     "name": "stdout",
     "output_type": "stream",
     "text": [
      "b\"\\r\\n\\r\\n\\r\\nProject Gutenberg's Alice's Adventures in Wonderland, by Lewis Carroll\\r\\n\\r\\nThis eBook is for the use of anyone anywhere at no cost and with\\r\\nalmost no restrictions whatsoever.  You may copy it, give it away or\\r\\nre-use it under the terms of the Project Gutenberg License included\\r\\nwith this eBook or online at www.gutenberg.org\\r\\n\\r\\n\\r\\nTitle: Alice's Adventures in Wonderland\\r\\n\\r\\nAuthor: Lewis Carroll\\r\\n\\r\\nRelease Date: June 25, 2008 [EBook #11]\\r\\nLast Updated: October 6, 2016\\r\\n\\r\\nLanguage: English\\r\\n\\r\\nCharacter set encoding: UTF-8\\r\\n\\r\\n*** START OF THIS PROJECT GUTENBERG EBOOK ALICE'S ADVENTURES IN WONDERLAND ***\\r\\n\\r\\n\\r\\n\\r\\nProduced by Arthur DiBianca and David Widger\\r\\n\\r\\n\\r\\n\\r\\n\\r\\n\\r\\n\\r\\n\\r\\n\\r\\n\\r\\n\\r\\n\\r\\n\\r\\n\\r\\n\\r\\n\\r\\n\\r\\n\\r\\nALICE\\xe2\\x80\\x99S ADVENTURES\\r\\nIN WONDERLAND\\r\\n\\r\\n\\r\\nBy Lewis Carroll\\r\\n\\r\\n\\r\\n\\r\\nTHE MILLENNIUM FULCRUM EDITION 3.0\\r\\n\\r\\n\\r\\n\\r\\n\\r\\n\\r\\nContents\\r\\nCHAPTER I. \\tDown the Rabbit-Hole\\r\\nCHAPTER II. \\tThe Pool of Tears\\r\\nCHAPTER III. \\tA Caucus-Race and a Long Tale\\r\\nCHAPTER IV. \\tThe Rabbit Sends in a Little Bill\\r\\nCHAPTER V. \\tAdvice from a Caterpillar\\r\\nCHAPTER VI. \\tPig and Pepper\\r\\nCHAPTER VII. \\tA Mad Tea-Party\\r\\nCHAPTER VIII.   \\tThe Queen\\xe2\\x80\\x99s Croquet-Ground\\r\\nCHAPTER IX. \\tThe Mock Turtle\\xe2\\x80\\x99s Story\\r\\nCHAPTER X. \\tThe Lobster Quadrille\\r\\nCHAPTER XI. \\tWho Stole the Tarts?\\r\\nCHAPTER XII. \\tAlice\\xe2\\x80\\x99s Evidence\\r\\n\\r\\n\\r\\n\\r\\n\\r\\n\\r\\nCHAPTER I. Down the Rabbit-Hole\\r\\n\\r\\nAlice was beginning to get very tired of sitting by her sister on the bank, and of having nothing to do: once or twice she had peeped into the book her sister was reading, but it had no pictures or conversations in it, \\xe2\\x80\"\n"
     ]
    }
   ],
   "source": [
    "# r - read\n",
    "# rb - read bytes\n",
    "\n",
    "with open(\"data/alice.txt\", \"rb\") as file:\n",
    "    print(file.read()[:1535])"
   ]
  },
  {
   "cell_type": "code",
   "execution_count": 10,
   "id": "ff3c2dd5-b6de-4e5a-9652-1063e623c138",
   "metadata": {},
   "outputs": [
    {
     "name": "stdout",
     "output_type": "stream",
     "text": [
      "\n",
      "\n",
      "\n",
      "Project Gutenberg's Alice's Adventures in Wonderland, by Lewis Carroll\n",
      "\n",
      "This eBook is for the use\n"
     ]
    }
   ],
   "source": [
    "# use after \"r\" , encoding='utf-8' if cant read utf-8 symbols\n",
    "with open(\"data/alice.txt\", \"r\", encoding='utf-8') as file:\n",
    "    print(file.read()[:100])"
   ]
  },
  {
   "cell_type": "code",
   "execution_count": 11,
   "id": "049b30d1-5722-47a4-9d6d-5ed32699a910",
   "metadata": {},
   "outputs": [
    {
     "data": {
      "text/plain": [
       "Index(['country', 'restaurant_name', 'sentiment', 'review_title',\n",
       "       'review_date', 'review'],\n",
       "      dtype='object')"
      ]
     },
     "execution_count": 11,
     "metadata": {},
     "output_type": "execute_result"
    }
   ],
   "source": [
    "eu_restaurants.columns"
   ]
  },
  {
   "cell_type": "code",
   "execution_count": 12,
   "id": "aa6b6d2c-3e8b-4864-8f24-928be3757faa",
   "metadata": {},
   "outputs": [
    {
     "data": {
      "text/plain": [
       "0                                                  Review\n",
       "1       The manager became agressive when I said the c...\n",
       "2       I ordered a beef fillet ask to be done medium,...\n",
       "3       This is an attractive venue with welcoming, al...\n",
       "4       Sadly I  used the high TripAdvisor rating too ...\n",
       "                              ...                        \n",
       "1498    Despite the other reviews saying that this is ...\n",
       "1499    beer is good.  food is awfull  The only decent...\n",
       "1500    for terrible service of a truly comedic level,...\n",
       "1501    We visited the Havana's Club Museum which is l...\n",
       "1502    Food and service was awful. Very pretty stop. ...\n",
       "Name: review, Length: 1503, dtype: object"
      ]
     },
     "execution_count": 12,
     "metadata": {},
     "output_type": "execute_result"
    }
   ],
   "source": [
    "eu_restaurants.review"
   ]
  },
  {
   "cell_type": "code",
   "execution_count": 13,
   "id": "f6e0de3e-409b-41fe-a9bc-46a44765abf2",
   "metadata": {},
   "outputs": [
    {
     "data": {
      "text/plain": [
       "0       Review Date\n",
       "1        May 2024 •\n",
       "2        Feb 2024 •\n",
       "3        Nov 2023 •\n",
       "4        Mar 2023 •\n",
       "           ...     \n",
       "1498     Oct 2016 •\n",
       "1499     Oct 2016 •\n",
       "1500     Oct 2016 •\n",
       "1501     Oct 2016 •\n",
       "1502     Oct 2016 •\n",
       "Name: review_date, Length: 1503, dtype: object"
      ]
     },
     "execution_count": 13,
     "metadata": {},
     "output_type": "execute_result"
    }
   ],
   "source": [
    "eu_restaurants.review_date"
   ]
  },
  {
   "cell_type": "markdown",
   "id": "87d2901c-26f4-4619-8e55-7e0885a4d53f",
   "metadata": {},
   "source": [
    "това са просто текстове и няма начин да ги обърнем в числа.\n",
    "но можем да видим дължината на всеки един от записите в дадена колона, примерно колоната __review__"
   ]
  },
  {
   "cell_type": "code",
   "execution_count": 14,
   "id": "3f4760b3-b515-4dcd-8f43-a06e1cf4786a",
   "metadata": {},
   "outputs": [
    {
     "data": {
      "text/plain": [
       "103    3679\n",
       "28     3555\n",
       "67     3516\n",
       "99     3106\n",
       "102    3087\n",
       "       ... \n",
       "537      71\n",
       "145      71\n",
       "120      71\n",
       "184      10\n",
       "0         6\n",
       "Name: review, Length: 1503, dtype: int64"
      ]
     },
     "execution_count": 14,
     "metadata": {},
     "output_type": "execute_result"
    }
   ],
   "source": [
    "eu_restaurants.review.str.len().sort_values(ascending = False)"
   ]
  },
  {
   "cell_type": "code",
   "execution_count": 15,
   "id": "fcb0edf1-0158-4f33-8098-fcf8aa5e148d",
   "metadata": {},
   "outputs": [
    {
     "data": {
      "text/plain": [
       "366.19827012641383"
      ]
     },
     "execution_count": 15,
     "metadata": {},
     "output_type": "execute_result"
    }
   ],
   "source": [
    "# средна дължина на текста\n",
    "eu_restaurants.review.str.len().mean()"
   ]
  },
  {
   "cell_type": "code",
   "execution_count": 16,
   "id": "a5f2bf1b-2808-4e06-8a42-3cb6069bd94b",
   "metadata": {},
   "outputs": [
    {
     "data": {
      "text/plain": [
       "235.0"
      ]
     },
     "execution_count": 16,
     "metadata": {},
     "output_type": "execute_result"
    }
   ],
   "source": [
    "# медианната дължина на текста\n",
    "eu_restaurants.review.str.len().median()"
   ]
  },
  {
   "cell_type": "markdown",
   "id": "3d46d11f-c4a6-4c75-9cc9-e38caf056005",
   "metadata": {},
   "source": [
    " средната дължина на текста е 366.19827012641383, а медианната дължина е 235.0\n",
    " следователно ___повечето___ текстове са с дължина ___между___ 235 и 366\n"
   ]
  },
  {
   "cell_type": "code",
   "execution_count": 17,
   "id": "1eb08df6-0a5a-4a2f-8503-4c294345c562",
   "metadata": {},
   "outputs": [
    {
     "name": "stdout",
     "output_type": "stream",
     "text": [
      "     country            restaurant_name sentiment  \\\n",
      "1     France  The Frog at Bercy Village  Negative   \n",
      "2     France  The Frog at Bercy Village  Negative   \n",
      "3     France  The Frog at Bercy Village  Negative   \n",
      "4     France  The Frog at Bercy Village  Negative   \n",
      "5     France  The Frog at Bercy Village  Negative   \n",
      "...      ...                        ...       ...   \n",
      "1498    Cuba   Old Square (Plaza Vieja)  Negative   \n",
      "1499    Cuba   Old Square (Plaza Vieja)  Negative   \n",
      "1500    Cuba   Old Square (Plaza Vieja)  Negative   \n",
      "1501    Cuba   Old Square (Plaza Vieja)  Negative   \n",
      "1502    Cuba   Old Square (Plaza Vieja)  Negative   \n",
      "\n",
      "                                   review_title review_date  \\\n",
      "1                                  Rude manager  May 2024 •   \n",
      "2                          A big disappointment  Feb 2024 •   \n",
      "3                  Pretty Place with Bland Food  Nov 2023 •   \n",
      "4      Great service and wine but inedible food  Mar 2023 •   \n",
      "5     Avoid- Worst meal in Rome - possibly ever  Nov 2022 •   \n",
      "...                                         ...         ...   \n",
      "1498                           The Tourism Trap  Oct 2016 •   \n",
      "1499                           the beer factory  Oct 2016 •   \n",
      "1500                                    brewery  Oct 2016 •   \n",
      "1501           It's nothing exciting over there  Oct 2016 •   \n",
      "1502                               Tourist Trap  Oct 2016 •   \n",
      "\n",
      "                                                 review  \n",
      "1     The manager became agressive when I said the c...  \n",
      "2     I ordered a beef fillet ask to be done medium,...  \n",
      "3     This is an attractive venue with welcoming, al...  \n",
      "4     Sadly I  used the high TripAdvisor rating too ...  \n",
      "5     From the start this meal was bad- especially g...  \n",
      "...                                                 ...  \n",
      "1498  Despite the other reviews saying that this is ...  \n",
      "1499  beer is good.  food is awfull  The only decent...  \n",
      "1500  for terrible service of a truly comedic level,...  \n",
      "1501  We visited the Havana's Club Museum which is l...  \n",
      "1502  Food and service was awful. Very pretty stop. ...  \n",
      "\n",
      "[265 rows x 6 columns]\n"
     ]
    }
   ],
   "source": [
    "for sentiment, group_data in eu_restaurants.groupby('sentiment'):\n",
    "    print(group_data)\n",
    "    break"
   ]
  },
  {
   "cell_type": "code",
   "execution_count": 18,
   "id": "90a1bbc4-4ba8-4ea8-8810-4d15277e611a",
   "metadata": {},
   "outputs": [
    {
     "name": "stdout",
     "output_type": "stream",
     "text": [
      "(265, 6)\n"
     ]
    }
   ],
   "source": [
    "for sentiment, group_data in eu_restaurants.groupby('sentiment'):\n",
    "    print(group_data.shape)\n",
    "    break"
   ]
  },
  {
   "cell_type": "code",
   "execution_count": 19,
   "id": "7b8dd83f-1a54-4319-96c9-e9fa97543f92",
   "metadata": {},
   "outputs": [
    {
     "name": "stdout",
     "output_type": "stream",
     "text": [
      "country            object\n",
      "restaurant_name    object\n",
      "sentiment          object\n",
      "review_title       object\n",
      "review_date        object\n",
      "review             object\n",
      "dtype: object\n"
     ]
    }
   ],
   "source": [
    "for sentiment, group_data in eu_restaurants.groupby('sentiment'):\n",
    "    print(group_data.dtypes)\n",
    "    break"
   ]
  },
  {
   "cell_type": "code",
   "execution_count": 20,
   "id": "d5a95c0d-db46-4d6b-adcd-4d4c2a239801",
   "metadata": {},
   "outputs": [
    {
     "name": "stdout",
     "output_type": "stream",
     "text": [
      "Negative 25.0\n",
      "Positive 25.0\n",
      "Sentiment 15.0\n"
     ]
    }
   ],
   "source": [
    "for sentiment, group_data in eu_restaurants.groupby('sentiment'):\n",
    "    print(sentiment, group_data.restaurant_name.str.len().median())"
   ]
  },
  {
   "cell_type": "markdown",
   "id": "81e1d421-a024-4cd3-9b87-c74ccd82c4b3",
   "metadata": {},
   "source": [
    "Четем от файл:"
   ]
  },
  {
   "cell_type": "code",
   "execution_count": 21,
   "id": "f7e14808-e678-4788-8426-013ac3ff0285",
   "metadata": {},
   "outputs": [
    {
     "name": "stdout",
     "output_type": "stream",
     "text": [
      "164108\n"
     ]
    }
   ],
   "source": [
    "text= \"\"\n",
    "with open(\"data/alice.txt\", \"r\", encoding='utf-8') as f:\n",
    "    text = f.read()\n",
    "print(len(text))"
   ]
  },
  {
   "cell_type": "markdown",
   "id": "04f786e0-ca60-4845-9a8f-c5e0b94dc489",
   "metadata": {},
   "source": [
    "след като видяхме как се чете от файл,следва статистиката. По-горе видяхме как изследвахме дължината, но може да проверим кои са най-често срещаните символи, най-често срещани думи и т.н.\n",
    "Ще импортнем брояч\n",
    "from collections import Counter\n",
    "\n",
    "ако поискам първия запис, това ще бъде:"
   ]
  },
  {
   "cell_type": "code",
   "execution_count": 22,
   "id": "1fd292d7-f3a3-4168-93ce-1144191308e7",
   "metadata": {},
   "outputs": [
    {
     "data": {
      "text/plain": [
       "Project Gutenberg's Alice's Adventures in Wonderland, by Lewis Carroll    This eBook is for the use of anyone anywhere a...\n",
       "Name: 0, dtype: object"
      ]
     },
     "execution_count": 22,
     "metadata": {},
     "output_type": "execute_result"
    }
   ],
   "source": [
    "alice.loc[0]"
   ]
  },
  {
   "cell_type": "code",
   "execution_count": 23,
   "id": "036e7a2f-dcef-4a87-95f8-bff091785873",
   "metadata": {},
   "outputs": [
    {
     "data": {
      "text/plain": [
       "'Review'"
      ]
     },
     "execution_count": 23,
     "metadata": {},
     "output_type": "execute_result"
    }
   ],
   "source": [
    "eu_restaurants.loc[0].review"
   ]
  },
  {
   "cell_type": "code",
   "execution_count": null,
   "id": "5c16e95a-45ac-4de4-8875-7b39647db435",
   "metadata": {},
   "outputs": [],
   "source": []
  },
  {
   "cell_type": "code",
   "execution_count": 24,
   "id": "73f578ab-e64b-4bef-b5b7-4902422d7e89",
   "metadata": {},
   "outputs": [
    {
     "data": {
      "text/plain": [
       "'The manager became agressive when I said the carbonara was not good. She was rude. It was  a very bad experience. The worst in Rome in many years.'"
      ]
     },
     "execution_count": 24,
     "metadata": {},
     "output_type": "execute_result"
    }
   ],
   "source": [
    "eu_restaurants.loc[1].review"
   ]
  },
  {
   "cell_type": "markdown",
   "id": "536bcb89-8e7b-4268-8519-ad3e74ebe980",
   "metadata": {},
   "source": []
  },
  {
   "cell_type": "markdown",
   "id": "4385e711-7e0c-4b06-828c-a366cda13aaf",
   "metadata": {},
   "source": []
  },
  {
   "cell_type": "markdown",
   "id": "e45b1e88-cf66-4541-9eae-0593ff485fa1",
   "metadata": {},
   "source": [
    "може да си направим един _Counter_, който съдържа този стринг.\n",
    "Така можем да разберем кои са символите в  стринга и колко пъти се срещат."
   ]
  },
  {
   "cell_type": "code",
   "execution_count": 25,
   "id": "82d4e31f-9edf-46b9-a250-842bdc77d05c",
   "metadata": {},
   "outputs": [
    {
     "data": {
      "text/plain": [
       "Counter({' ': 28,\n",
       "         'e': 18,\n",
       "         'a': 15,\n",
       "         'r': 9,\n",
       "         'n': 8,\n",
       "         's': 8,\n",
       "         'o': 6,\n",
       "         'h': 5,\n",
       "         'i': 5,\n",
       "         'w': 5,\n",
       "         'm': 4,\n",
       "         'd': 4,\n",
       "         't': 4,\n",
       "         '.': 4,\n",
       "         'g': 3,\n",
       "         'b': 3,\n",
       "         'c': 3,\n",
       "         'y': 3,\n",
       "         'T': 2,\n",
       "         'v': 2,\n",
       "         'I': 2,\n",
       "         'S': 1,\n",
       "         'u': 1,\n",
       "         'x': 1,\n",
       "         'p': 1,\n",
       "         'R': 1})"
      ]
     },
     "execution_count": 25,
     "metadata": {},
     "output_type": "execute_result"
    }
   ],
   "source": [
    "Counter(eu_restaurants.loc[1].review)"
   ]
  },
  {
   "cell_type": "code",
   "execution_count": 26,
   "id": "34892800-11b8-44ae-b2ff-6265d80917b3",
   "metadata": {},
   "outputs": [],
   "source": [
    "# закоментирам, защото изкарва много редове\n",
    "# Counter(eu_restaurants.review.ravel())"
   ]
  },
  {
   "cell_type": "code",
   "execution_count": 27,
   "id": "a2300cf8-c5f4-44fb-be89-bdacb2959dd5",
   "metadata": {},
   "outputs": [
    {
     "data": {
      "text/plain": [
       "array(['Review',\n",
       "       'The manager became agressive when I said the carbonara was not good. She was rude. It was  a very bad experience. The worst in Rome in many years.',\n",
       "       'I ordered a beef fillet ask to be done medium, I got it well done cooked and very dry, when I told them they took the steak and after 20 minutes they brought me another steak that was completely rare, I left all the steak , and they asked me about it but charged me the fool price.',\n",
       "       ...,\n",
       "       \"for terrible service of a truly comedic level, have a 2/3 full pint of beer in the little microbrew brew on the square. not really the square's fault.\",\n",
       "       \"We visited the Havana's Club Museum which is located in the old havana area , and we weren't impressed at all. However, my family and I took a tour bus all around old Havana, Center of Havana where all nice hotel such National hotel are located, and East of Havana such Miramar, and we had a lot of fun. In addition, we paid only $5 for this two hour tour.\",\n",
       "       'Food and service was awful. Very pretty stop. Good for photos, bad for food.'],\n",
       "      dtype=object)"
      ]
     },
     "execution_count": 27,
     "metadata": {},
     "output_type": "execute_result"
    }
   ],
   "source": [
    "eu_restaurants.review.to_numpy()"
   ]
  },
  {
   "cell_type": "markdown",
   "id": "d779af9b-7b37-4077-80ed-8ce400c232c8",
   "metadata": {},
   "source": [
    "За да вземем всички символи от текста, трябвa да ги конкатенираме заедно. Така ще получим всичките текстове заедно. \n",
    "Защо ни трябват заедно - за да разберем разпределението на символи във всичките заедно."
   ]
  },
  {
   "cell_type": "code",
   "execution_count": 28,
   "id": "58a64b74-403e-432e-ab60-85a829f1cc11",
   "metadata": {},
   "outputs": [],
   "source": [
    "all_texts = \" \".join(eu_restaurants.review.to_numpy())\n",
    "# all_texts"
   ]
  },
  {
   "cell_type": "code",
   "execution_count": 29,
   "id": "8e616f9d-d218-4c2f-bafa-ee751d08cec8",
   "metadata": {},
   "outputs": [],
   "source": [
    "# Counter(all_texts)"
   ]
  },
  {
   "cell_type": "code",
   "execution_count": 30,
   "id": "52df491d-9a54-4c88-99c9-c60ff0032db9",
   "metadata": {},
   "outputs": [],
   "source": [
    "# Counter(all_texts.lower())"
   ]
  },
  {
   "cell_type": "raw",
   "id": "f1f11f03-bbaf-4e58-9ab6-8ef180dea331",
   "metadata": {},
   "source": [
    "искаме да видим кои са 20-те най-често срещани символа"
   ]
  },
  {
   "cell_type": "code",
   "execution_count": 31,
   "id": "a3862099-7077-4e64-ad50-b2d39d2eb88d",
   "metadata": {},
   "outputs": [],
   "source": [
    "frequences = Counter(all_texts.lower()).most_common(20)"
   ]
  },
  {
   "cell_type": "code",
   "execution_count": 32,
   "id": "1b86c31f-0fcc-4c56-a8c7-4c0efeb8033c",
   "metadata": {},
   "outputs": [
    {
     "data": {
      "image/png": "[encoded data removed]",
      "text/plain": [
       "<Figure size 640x480 with 1 Axes>"
      ]
     },
     "metadata": {},
     "output_type": "display_data"
    }
   ],
   "source": [
    "plt.bar([symbol for symbol, frequency in frequences], [frequency for symbol, frequency in frequences])\n",
    "plt.ylabel(\"Count\")\n",
    "plt.show()"
   ]
  },
  {
   "cell_type": "markdown",
   "id": "f3ab8cf4-7a4d-4cc8-abf9-5a1256b0aaf3",
   "metadata": {},
   "source": [
    "Досега правихме анализ по символи. Нека сега направим анализ по думи"
   ]
  },
  {
   "cell_type": "code",
   "execution_count": 33,
   "id": "c8ef8b25-6774-451e-9c75-aa0697d57265",
   "metadata": {},
   "outputs": [],
   "source": [
    "words = all_texts.split(\" \")"
   ]
  },
  {
   "cell_type": "code",
   "execution_count": 34,
   "id": "8dacdda5-a76f-4705-b18f-576a38b687c1",
   "metadata": {},
   "outputs": [
    {
     "data": {
      "text/plain": [
       "True"
      ]
     },
     "execution_count": 34,
     "metadata": {},
     "output_type": "execute_result"
    }
   ],
   "source": [
    "# проверяваме дали има останали празни думи\n",
    "np.array([word == \"\" for word in words]).any()"
   ]
  },
  {
   "cell_type": "code",
   "execution_count": 35,
   "id": "98c04ba8-5b18-492f-8bd5-682e693b9f70",
   "metadata": {},
   "outputs": [],
   "source": [
    "# да видим коя думи колко пъти се среща\n",
    "# Counter(words)"
   ]
  },
  {
   "cell_type": "code",
   "execution_count": 36,
   "id": "ada6283e-3ffc-4e04-bbfa-91e014b1372d",
   "metadata": {},
   "outputs": [],
   "source": [
    "# stopwords.words(\"english\")"
   ]
  },
  {
   "cell_type": "code",
   "execution_count": 37,
   "id": "74554eaa-80df-46bf-8956-cdd433731061",
   "metadata": {},
   "outputs": [
    {
     "data": {
      "text/plain": [
       "0                                                [Review]\n",
       "1       [The, manager, became, agressive, when, I, sai...\n",
       "2       [I, ordered, a, beef, fillet, ask, to, be, don...\n",
       "3       [This, is, an, attractive, venue, with, welcom...\n",
       "4       [Sadly, I, , used, the, high, TripAdvisor, rat...\n",
       "                              ...                        \n",
       "1498    [Despite, the, other, reviews, saying, that, t...\n",
       "1499    [beer, is, good., , food, is, awfull, , The, o...\n",
       "1500    [for, terrible, service, of, a, truly, comedic...\n",
       "1501    [We, visited, the, Havana's, Club, Museum, whi...\n",
       "1502    [Food, and, service, was, awful., Very, pretty...\n",
       "Name: review, Length: 1503, dtype: object"
      ]
     },
     "execution_count": 37,
     "metadata": {},
     "output_type": "execute_result"
    }
   ],
   "source": [
    "eu_restaurants.review.apply(lambda text: text.split(\" \"))"
   ]
  },
  {
   "cell_type": "code",
   "execution_count": 38,
   "id": "95e35c35-8e95-4e10-a514-b1638436f6a4",
   "metadata": {},
   "outputs": [
    {
     "data": {
      "text/plain": [
       "'The manager became agressive when I said the carbonara was not good. She was rude. It was  a very bad experience. The worst in Rome in many years.'"
      ]
     },
     "execution_count": 38,
     "metadata": {},
     "output_type": "execute_result"
    }
   ],
   "source": [
    "eu_restaurants.review[1]"
   ]
  },
  {
   "cell_type": "code",
   "execution_count": 39,
   "id": "d527dda5-31ae-4436-b46a-52c7ac93590d",
   "metadata": {},
   "outputs": [
    {
     "data": {
      "text/plain": [
       "0                                                [Review]\n",
       "1       [The, manager, became, agressive, when, I, sai...\n",
       "2       [I, ordered, a, beef, fillet, ask, to, be, don...\n",
       "3       [This, is, an, attractive, venue, with, welcom...\n",
       "4       [Sadly, I, , used, the, high, TripAdvisor, rat...\n",
       "                              ...                        \n",
       "1498    [Despite, the, other, reviews, saying, that, t...\n",
       "1499    [beer, is, good., , food, is, awfull, , The, o...\n",
       "1500    [for, terrible, service, of, a, truly, comedic...\n",
       "1501    [We, visited, the, Havana's, Club, Museum, whi...\n",
       "1502    [Food, and, service, was, awful., Very, pretty...\n",
       "Name: review, Length: 1503, dtype: object"
      ]
     },
     "execution_count": 39,
     "metadata": {},
     "output_type": "execute_result"
    }
   ],
   "source": [
    "eu_restaurants.review.str.split(\" \")"
   ]
  },
  {
   "cell_type": "code",
   "execution_count": 40,
   "id": "c82dcd49-1f8b-4ef8-a007-f9f311aea980",
   "metadata": {},
   "outputs": [
    {
     "data": {
      "text/plain": [
       "0                                                [Review]\n",
       "1       [The, manager, became, agressive, when, I, sai...\n",
       "2       [I, ordered, a, beef, fillet, ask, to, be, don...\n",
       "3       [This, is, an, attractive, venue, with, welcom...\n",
       "4       [Sadly, I, used, the, high, TripAdvisor, ratin...\n",
       "                              ...                        \n",
       "1498    [Despite, the, other, reviews, saying, that, t...\n",
       "1499    [beer, is, good., food, is, awfull, The, only,...\n",
       "1500    [for, terrible, service, of, a, truly, comedic...\n",
       "1501    [We, visited, the, Havana's, Club, Museum, whi...\n",
       "1502    [Food, and, service, was, awful., Very, pretty...\n",
       "Name: review, Length: 1503, dtype: object"
      ]
     },
     "execution_count": 40,
     "metadata": {},
     "output_type": "execute_result"
    }
   ],
   "source": [
    "eu_restaurants.review.str.split(\"\\s+\")\n",
    "#  \\s+- разделяме по един или повече уайд спейс символи като нови редове, табове, интервали и други тоакива\n",
    "# когато разделяме един текст на много на брой парчета се нарича tokanization"
   ]
  },
  {
   "cell_type": "code",
   "execution_count": 41,
   "id": "94007d07-efcf-4d39-a418-e50534d01c61",
   "metadata": {},
   "outputs": [
    {
     "data": {
      "text/plain": [
       "<bound method StringMethods.split of <pandas.core.strings.accessor.StringMethods object at 0x000002CBE6733190>>"
      ]
     },
     "execution_count": 41,
     "metadata": {},
     "output_type": "execute_result"
    }
   ],
   "source": [
    "eu_restaurants.review.str.split"
   ]
  },
  {
   "cell_type": "code",
   "execution_count": null,
   "id": "4a38e0b5-d49e-4353-8352-c8ad67de0ded",
   "metadata": {},
   "outputs": [],
   "source": []
  }
 ],
 "metadata": {
  "kernelspec": {
   "display_name": "Python 3 (ipykernel)",
   "language": "python",
   "name": "python3"
  },
  "language_info": {
   "codemirror_mode": {
    "name": "ipython",
    "version": 3
   },
   "file_extension": ".py",
   "mimetype": "text/x-python",
   "name": "python",
   "nbconvert_exporter": "python",
   "pygments_lexer": "ipython3",
   "version": "3.11.7"
  }
 },
 "nbformat": 4,
 "nbformat_minor": 5
}
