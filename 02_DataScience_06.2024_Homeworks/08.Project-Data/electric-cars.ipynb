{
 "cells": [
  {
   "cell_type": "code",
   "execution_count": 1,
   "id": "ac83a927-9e7b-4319-ad91-0778ae068703",
   "metadata": {},
   "outputs": [],
   "source": [
    "import pandas as pd\n",
    "import numpy as np\n",
    "import matplotlib.pyplot as plt\n",
    "import seaborn as sns\n",
    "from sklearn.linear_model import LinearRegression\n",
    "import yfinance as yf"
   ]
  },
  {
   "cell_type": "markdown",
   "id": "c2253ec1-2d15-4eba-a289-0fda0cc519d9",
   "metadata": {},
   "source": [
    "Downloaded Metal Prices using the yfinance library to download historical price data for the metals."
   ]
  },
  {
   "cell_type": "code",
   "execution_count": 2,
   "id": "f6891301-9355-44fb-97fb-ea6bc55acb2e",
   "metadata": {},
   "outputs": [
    {
     "name": "stderr",
     "output_type": "stream",
     "text": [
      "[*********************100%***********************]  4 of 6 completed\n",
      "\n",
      "2 Failed downloads:\n",
      "['NICKEL=F', 'LTHM']: YFTzMissingError('$%ticker%: possibly delisted; no timezone found')\n",
      "[*********************100%***********************]  4 of 6 completed"
     ]
    },
    {
     "data": {
      "text/html": [
       "<div>\n",
       "<style scoped>\n",
       "    .dataframe tbody tr th:only-of-type {\n",
       "        vertical-align: middle;\n",
       "    }\n",
       "\n",
       "    .dataframe tbody tr th {\n",
       "        vertical-align: top;\n",
       "    }\n",
       "\n",
       "    .dataframe thead th {\n",
       "        text-align: right;\n",
       "    }\n",
       "</style>\n",
       "<table border=\"1\" class=\"dataframe\">\n",
       "  <thead>\n",
       "    <tr style=\"text-align: right;\">\n",
       "      <th></th>\n",
       "      <th>Gold</th>\n",
       "      <th>Copper</th>\n",
       "      <th>Silver</th>\n",
       "      <th>Cobalt</th>\n",
       "      <th>Nickel</th>\n",
       "      <th>Lithium</th>\n",
       "    </tr>\n",
       "    <tr>\n",
       "      <th>Date</th>\n",
       "      <th></th>\n",
       "      <th></th>\n",
       "      <th></th>\n",
       "      <th></th>\n",
       "      <th></th>\n",
       "      <th></th>\n",
       "    </tr>\n",
       "  </thead>\n",
       "  <tbody>\n",
       "    <tr>\n",
       "      <th>2010-01-04 00:00:00+00:00</th>\n",
       "      <td>134.25</td>\n",
       "      <td>1117.699951</td>\n",
       "      <td>3.3880</td>\n",
       "      <td>NaN</td>\n",
       "      <td>NaN</td>\n",
       "      <td>17.440001</td>\n",
       "    </tr>\n",
       "    <tr>\n",
       "      <th>2010-01-05 00:00:00+00:00</th>\n",
       "      <td>134.00</td>\n",
       "      <td>1118.099976</td>\n",
       "      <td>3.3960</td>\n",
       "      <td>NaN</td>\n",
       "      <td>NaN</td>\n",
       "      <td>17.781000</td>\n",
       "    </tr>\n",
       "    <tr>\n",
       "      <th>2010-01-06 00:00:00+00:00</th>\n",
       "      <td>133.25</td>\n",
       "      <td>1135.900024</td>\n",
       "      <td>3.4775</td>\n",
       "      <td>NaN</td>\n",
       "      <td>NaN</td>\n",
       "      <td>18.163000</td>\n",
       "    </tr>\n",
       "    <tr>\n",
       "      <th>2010-01-07 00:00:00+00:00</th>\n",
       "      <td>133.00</td>\n",
       "      <td>1133.099976</td>\n",
       "      <td>3.4115</td>\n",
       "      <td>NaN</td>\n",
       "      <td>NaN</td>\n",
       "      <td>18.333000</td>\n",
       "    </tr>\n",
       "    <tr>\n",
       "      <th>2010-01-08 00:00:00+00:00</th>\n",
       "      <td>133.00</td>\n",
       "      <td>1138.199951</td>\n",
       "      <td>3.3880</td>\n",
       "      <td>NaN</td>\n",
       "      <td>NaN</td>\n",
       "      <td>18.458000</td>\n",
       "    </tr>\n",
       "  </tbody>\n",
       "</table>\n",
       "</div>"
      ],
      "text/plain": [
       "                             Gold       Copper  Silver  Cobalt  Nickel  \\\n",
       "Date                                                                     \n",
       "2010-01-04 00:00:00+00:00  134.25  1117.699951  3.3880     NaN     NaN   \n",
       "2010-01-05 00:00:00+00:00  134.00  1118.099976  3.3960     NaN     NaN   \n",
       "2010-01-06 00:00:00+00:00  133.25  1135.900024  3.4775     NaN     NaN   \n",
       "2010-01-07 00:00:00+00:00  133.00  1133.099976  3.4115     NaN     NaN   \n",
       "2010-01-08 00:00:00+00:00  133.00  1138.199951  3.3880     NaN     NaN   \n",
       "\n",
       "                             Lithium  \n",
       "Date                                  \n",
       "2010-01-04 00:00:00+00:00  17.440001  \n",
       "2010-01-05 00:00:00+00:00  17.781000  \n",
       "2010-01-06 00:00:00+00:00  18.163000  \n",
       "2010-01-07 00:00:00+00:00  18.333000  \n",
       "2010-01-08 00:00:00+00:00  18.458000  "
      ]
     },
     "execution_count": 2,
     "metadata": {},
     "output_type": "execute_result"
    }
   ],
   "source": [
    "metals = ['GC=F', 'HG=F', 'SI=F', 'CB=F', 'NICKEL=F', 'LTHM']\n",
    "metal_data = yf.download(metals, start=\"2010-01-01\", end=\"2024-01-01\")['Adj Close']\n",
    "metal_data.columns = ['Gold', 'Copper', 'Silver', 'Cobalt', 'Nickel', 'Lithium']\n",
    "metal_data.head()"
   ]
  },
  {
   "cell_type": "markdown",
   "id": "e33074fa-b8e8-4c3c-8117-2536886357cc",
   "metadata": {},
   "source": [
    "Downloaded electrical vehicles prices using the yfinance library to download historical price data for the cars."
   ]
  },
  {
   "cell_type": "code",
   "execution_count": 3,
   "id": "0e087cd7-105d-48b0-8109-ff314365efbb",
   "metadata": {},
   "outputs": [],
   "source": [
    "ev_data = pd.read_csv('/Data/IEA-EV-dataEV salesHistoricalCars.csv') #parse_dates=['Date'], index_col='Date')\n",
    "ev_data.head()"
   ]
  },
  {
   "cell_type": "code",
   "execution_count": 4,
   "id": "f0d8e27a-9c8b-4897-a59b-aefe2603f130",
   "metadata": {},
   "outputs": [
    {
     "ename": "NameError",
     "evalue": "name 'ev_data' is not defined",
     "output_type": "error",
     "traceback": [
      "\u001b[1;31m---------------------------------------------------------------------------\u001b[0m",
      "\u001b[1;31mNameError\u001b[0m                                 Traceback (most recent call last)",
      "Cell \u001b[1;32mIn[4], line 1\u001b[0m\n\u001b[1;32m----> 1\u001b[0m data \u001b[38;5;241m=\u001b[39m metal_data\u001b[38;5;241m.\u001b[39mjoin(ev_data)\u001b[38;5;241m.\u001b[39mdropna()\n\u001b[0;32m      2\u001b[0m data\u001b[38;5;241m.\u001b[39mhead()\n",
      "\u001b[1;31mNameError\u001b[0m: name 'ev_data' is not defined"
     ]
    }
   ],
   "source": [
    "data = metal_data.join(ev_data).dropna()\n",
    "data.head()"
   ]
  }
 ],
 "metadata": {
  "kernelspec": {
   "display_name": "Python 3 (ipykernel)",
   "language": "python",
   "name": "python3"
  },
  "language_info": {
   "codemirror_mode": {
    "name": "ipython",
    "version": 3
   },
   "file_extension": ".py",
   "mimetype": "text/x-python",
   "name": "python",
   "nbconvert_exporter": "python",
   "pygments_lexer": "ipython3",
   "version": "3.11.7"
  }
 },
 "nbformat": 4,
 "nbformat_minor": 5
}
